{
 "cells": [
  {
   "cell_type": "markdown",
   "metadata": {},
   "source": [
    "# Nonsolobaschet Stats | 2018"
   ]
  },
  {
   "cell_type": "code",
   "execution_count": 15,
   "metadata": {},
   "outputs": [],
   "source": [
    "import pandas as pd\n",
    "import numpy as np\n",
    "import matplotlib.pyplot as plt\n",
    "import seaborn as sns\n",
    "from IPython.display import display, HTML\n",
    "\n",
    "from matplotlib import rcParams\n",
    "# figure size in inches\n",
    "rcParams['figure.figsize'] = 11.7,8.27\n",
    "# Set the style globally\n",
    "plt.style.use('default')\n",
    "rcParams['font.family'] = 'sans-serif'\n",
    "rcParams['font.sans-serif'] = 'Exo 2'\n",
    "rcParams['font.weight'] = '500'\n",
    "#rcParams['font.monospace'] = 'Ubuntu Mono'\n",
    "rcParams['font.size'] = 16\n",
    "rcParams['axes.labelsize'] = 16\n",
    "rcParams['axes.labelweight'] = '500'\n",
    "rcParams['axes.titleweight'] = '600'\n",
    "rcParams['axes.titlesize'] = 16\n",
    "rcParams['xtick.labelsize'] = 14\n",
    "rcParams['ytick.labelsize'] = 14\n",
    "rcParams['legend.fontsize'] = 12\n",
    "rcParams['figure.titlesize'] = 18\n",
    "\n",
    "\n",
    "### Init dataframes #########################################################\n",
    "Teams = {'gianluca' : ['La mamma di Enrico', 'midnightblue'],\n",
    "         'fabio' : ['Porti Chiusi Italiani', 'yellowgreen'],\n",
    "         'enrico' : ['Gianlucanonpressare', 'darkorange'],\n",
    "         'gabriele' : ['Sciagura', 'r'],\n",
    "         'luca' : ['Nottingham Forrest Gump', 'lightskyblue'],\n",
    "         'ale' : ['Sanfa','seagreen']\n",
    "        }\n",
    "\n",
    "parameters = [\n",
    "    'punti_fatti',         # fantapunti realizzati\n",
    "    'punti_subiti',        # fantapunti subiti\n",
    "    'goal_subiti_por',     # goal subiti dal portiere che concorre a punteggio squadra\n",
    "    'cartellini',          # subiti da giocatori che concorrono a punteggio squadra (giallo=1, rosso=2)\n",
    "    #'bonus_panchina',      # somma dei bonus giocatori che non concorrono a punteggio squadra\n",
    "    'mod_difesa',          # modificatore difesa\n",
    "    #'mod_fairplay'         # modificatore fairplay\n",
    "]\n",
    "df = pd.DataFrame(columns=parameters)\n",
    "\n",
    "df_gianluca = df\n",
    "df_fabio = df\n",
    "df_enrico = df\n",
    "df_gabriele = df\n",
    "df_luca = df\n",
    "df_ale = df\n",
    "\n",
    "Results = {\n",
    "    'gianluca' : df_gianluca,\n",
    "    'fabio' : df_fabio,\n",
    "    'enrico' : df_enrico,\n",
    "    'gabriele' : df_gabriele,\n",
    "    'luca' : df_luca,\n",
    "    'ale' : df_ale\n",
    "}\n",
    "\n",
    "# Steps of scored goals, number of players, own goal, low scoring\n",
    "goal_marks=np.array([66,71,76,81,86,91,96,101,106])\n",
    "step=5\n",
    "n_giocatori=len(Teams)\n",
    "soglia_autogol=58\n",
    "low_score=62\n",
    "\n",
    "### Utility functions ################################################\n",
    "def get_goal(fp,fpsub):\n",
    "    '''Return number of goals given fantapoints'''\n",
    "    goal_counter = 0\n",
    "    if fpsub < soglia_autogol: goal_counter = goal_counter+1\n",
    "    for mark in goal_marks:\n",
    "        if fp<mark: return goal_counter\n",
    "        goal_counter = goal_counter+1\n",
    "    return goal_counter\n",
    "\n",
    "def pti_guadagnati_diff(fp,fpsub,pti):\n",
    "    '''Ritorna guadagno in punti rispetto al valore atteso data la differenza in fantapunti'''\n",
    "    diff=fp-fpsub\n",
    "    if diff <-step:\n",
    "        exp_pti=0\n",
    "    elif diff >=step:\n",
    "        exp_pti=3\n",
    "    elif diff >=-step and diff<0:\n",
    "        exp_pti=1+diff/step\n",
    "    elif diff >=0 and diff<step:\n",
    "        exp_pti=1+2*diff/step\n",
    "    return pti-exp_pti \n",
    "    \n",
    "def esito(gf,gs):\n",
    "    '''Return match result (V,P,S) given goal scored and conceded'''\n",
    "    if gf>gs: return 'V'\n",
    "    elif gf<gs: return 'S'\n",
    "    else: return 'P'\n",
    "    \n",
    "def punti(esito):\n",
    "    '''Return standing points given match result'''\n",
    "    try:\n",
    "        if esito=='V': return 3\n",
    "        elif esito=='S': return 0\n",
    "        elif esito=='P': return 1\n",
    "    except ValueError:\n",
    "        print('Esito non valido')\n",
    "\n",
    "#def mod_fairplay(cartellini):\n",
    "#    '''Return modificatore fairplay value given number of yellow/red cards'''\n",
    "#    if cartellini==0: return 1\n",
    "#    return 0\n",
    "\n",
    "def get_team_colors():\n",
    "    '''Return list of team colors by default order'''\n",
    "    colors = []\n",
    "    for key in Teams.keys():\n",
    "        colors.append(Teams[key][1])\n",
    "    return colors\n",
    "    \n",
    "def fattore_distacco(Total):\n",
    "    pf_med = np.median(Total['punti_fatti'])\n",
    "    pf_std = np.std(Total['punti_fatti'])\n",
    "    dist_med = np.median(Total['distacco'])\n",
    "    dist_std = np.std(Total['distacco'])\n",
    "    pf_rel = (Total['punti_fatti'] - pf_med) / pf_std\n",
    "    dist_rel = (Total['distacco'] - dist_med) / dist_std\n",
    "    return -dist_rel-pf_rel\n",
    "\n",
    "def calc_fortuna(df):\n",
    "    keys = ('f_pos', 'f_distacco', 'f_GS', 'f_close_games')\n",
    "    scaling = (0.5, 1, 1, 0.5)\n",
    "    cols = ['dodgerblue', 'purple', 'r', 'gold']\n",
    "    factors = []\n",
    "    df['IndiceFortuna'] = [0,0,0,0,0,0,0,0]\n",
    "    ### build fortuna\n",
    "    for col,scale in zip(keys,scaling):\n",
    "        factors.append(df[col]*scale)\n",
    "        df['IndiceFortuna'] = df['IndiceFortuna'] + df[col]*scale\n",
    "    return df"
   ]
  },
  {
   "cell_type": "markdown",
   "metadata": {},
   "source": [
    "# >>> Scores txt files <<<"
   ]
  },
  {
   "cell_type": "markdown",
   "metadata": {},
   "source": [
    "### Gianluca | La mamma di Enrico"
   ]
  },
  {
   "cell_type": "code",
   "execution_count": 8,
   "metadata": {},
   "outputs": [
    {
     "name": "stdout",
     "output_type": "stream",
     "text": [
      "Overwriting gianluca.txt\n"
     ]
    }
   ],
   "source": [
    "%%writefile gianluca.txt\n",
    "gg pf ps gs c mdif\n",
    "1 82 77.5 1 1 1\n",
    "2 63.5 67 1 3 0"
   ]
  },
  {
   "cell_type": "markdown",
   "metadata": {},
   "source": [
    "### Fabio | Porti Chiusi Italiani"
   ]
  },
  {
   "cell_type": "code",
   "execution_count": 9,
   "metadata": {},
   "outputs": [
    {
     "name": "stdout",
     "output_type": "stream",
     "text": [
      "Overwriting fabio.txt\n"
     ]
    }
   ],
   "source": [
    "%%writefile fabio.txt\n",
    "gg pf ps gs c mdif\n",
    "1 77 72 3 3 0\n",
    "2 67.5 57.5 1 2 0"
   ]
  },
  {
   "cell_type": "markdown",
   "metadata": {},
   "source": [
    "### Enrico | Gianlucanonpressare"
   ]
  },
  {
   "cell_type": "code",
   "execution_count": 10,
   "metadata": {},
   "outputs": [
    {
     "name": "stdout",
     "output_type": "stream",
     "text": [
      "Overwriting enrico.txt\n"
     ]
    }
   ],
   "source": [
    "%%writefile enrico.txt\n",
    "gg pf ps gs c mdif\n",
    "1 79.5 61 1 2 3\n",
    "2 57.5 67.5 2 4 0"
   ]
  },
  {
   "cell_type": "markdown",
   "metadata": {},
   "source": [
    "### Gabriele | Sciagura"
   ]
  },
  {
   "cell_type": "code",
   "execution_count": 11,
   "metadata": {},
   "outputs": [
    {
     "name": "stdout",
     "output_type": "stream",
     "text": [
      "Overwriting gabriele.txt\n"
     ]
    }
   ],
   "source": [
    "%%writefile gabriele.txt\n",
    "gg pf ps gs c mdif\n",
    "1 72 77 0 1 1\n",
    "2 72 74.5 0 3 3"
   ]
  },
  {
   "cell_type": "markdown",
   "metadata": {},
   "source": [
    "### Luca | Nottingham Forrest Gump"
   ]
  },
  {
   "cell_type": "code",
   "execution_count": 12,
   "metadata": {},
   "outputs": [
    {
     "name": "stdout",
     "output_type": "stream",
     "text": [
      "Overwriting luca.txt\n"
     ]
    }
   ],
   "source": [
    "%%writefile luca.txt\n",
    "gg pf ps gs c mdif\n",
    "1 77.5 82 0 1 3\n",
    "2 74.5 72 2 1 1"
   ]
  },
  {
   "cell_type": "markdown",
   "metadata": {},
   "source": [
    "### Ale | Sanfa"
   ]
  },
  {
   "cell_type": "code",
   "execution_count": 13,
   "metadata": {},
   "outputs": [
    {
     "name": "stdout",
     "output_type": "stream",
     "text": [
      "Overwriting ale.txt\n"
     ]
    }
   ],
   "source": [
    "%%writefile ale.txt\n",
    "gg pf ps gs c mdif\n",
    "1 61 79.5 2 1 0\n",
    "2 67 63.5 1 0 0"
   ]
  },
  {
   "cell_type": "markdown",
   "metadata": {},
   "source": [
    "# >>> Fill dataframes <<<"
   ]
  },
  {
   "cell_type": "code",
   "execution_count": 16,
   "metadata": {
    "scrolled": true
   },
   "outputs": [
    {
     "name": "stdout",
     "output_type": "stream",
     "text": [
      "### CUMULATIVE DATA after 2 rounds ###\n",
      "Punti Fatti:\n",
      " media = 70.91666666666667 \n",
      " mediana = 72.0 \n",
      " varianza = 7.373469709407883 \n",
      "Goal Fatti:\n",
      " media = 1.8333333333333333 \n",
      " mediana = 2.0 \n",
      " varianza = 1.2801909579781015\n",
      "\n",
      " Medie personali:\n"
     ]
    },
    {
     "data": {
      "text/plain": [
       "{'ale': 64.0,\n",
       " 'enrico': 68.5,\n",
       " 'fabio': 72.25,\n",
       " 'gabriele': 72.0,\n",
       " 'gianluca': 72.75,\n",
       " 'luca': 76.0}"
      ]
     },
     "metadata": {},
     "output_type": "display_data"
    },
    {
     "name": "stdout",
     "output_type": "stream",
     "text": [
      "### gianluca | La mamma di Enrico ###\n"
     ]
    },
    {
     "data": {
      "text/html": [
       "<div>\n",
       "<style scoped>\n",
       "    .dataframe tbody tr th:only-of-type {\n",
       "        vertical-align: middle;\n",
       "    }\n",
       "\n",
       "    .dataframe tbody tr th {\n",
       "        vertical-align: top;\n",
       "    }\n",
       "\n",
       "    .dataframe thead th {\n",
       "        text-align: right;\n",
       "    }\n",
       "</style>\n",
       "<table border=\"1\" class=\"dataframe\">\n",
       "  <thead>\n",
       "    <tr style=\"text-align: right;\">\n",
       "      <th></th>\n",
       "      <th>punti_fatti</th>\n",
       "      <th>punti_subiti</th>\n",
       "      <th>goal_subiti_por</th>\n",
       "      <th>cartellini</th>\n",
       "      <th>mod_difesa</th>\n",
       "      <th>GF</th>\n",
       "      <th>GS</th>\n",
       "      <th>esito</th>\n",
       "      <th>pti</th>\n",
       "      <th>Team</th>\n",
       "      <th>f_close_games</th>\n",
       "      <th>f_media_giornata</th>\n",
       "      <th>f_media_personale</th>\n",
       "    </tr>\n",
       "  </thead>\n",
       "  <tbody>\n",
       "    <tr>\n",
       "      <th>1</th>\n",
       "      <td>82.0</td>\n",
       "      <td>77.5</td>\n",
       "      <td>1</td>\n",
       "      <td>1</td>\n",
       "      <td>1</td>\n",
       "      <td>4</td>\n",
       "      <td>3</td>\n",
       "      <td>V</td>\n",
       "      <td>3</td>\n",
       "      <td>gianluca</td>\n",
       "      <td>0.2</td>\n",
       "      <td>0.0</td>\n",
       "      <td>0.0</td>\n",
       "    </tr>\n",
       "    <tr>\n",
       "      <th>2</th>\n",
       "      <td>63.5</td>\n",
       "      <td>67.0</td>\n",
       "      <td>1</td>\n",
       "      <td>3</td>\n",
       "      <td>0</td>\n",
       "      <td>0</td>\n",
       "      <td>1</td>\n",
       "      <td>S</td>\n",
       "      <td>0</td>\n",
       "      <td>gianluca</td>\n",
       "      <td>-0.3</td>\n",
       "      <td>-0.2</td>\n",
       "      <td>-3.0</td>\n",
       "    </tr>\n",
       "  </tbody>\n",
       "</table>\n",
       "</div>"
      ],
      "text/plain": [
       "   punti_fatti  punti_subiti  goal_subiti_por  cartellini  mod_difesa  GF  GS  \\\n",
       "1         82.0          77.5                1           1           1   4   3   \n",
       "2         63.5          67.0                1           3           0   0   1   \n",
       "\n",
       "  esito  pti      Team  f_close_games  f_media_giornata  f_media_personale  \n",
       "1     V    3  gianluca            0.2               0.0                0.0  \n",
       "2     S    0  gianluca           -0.3              -0.2               -3.0  "
      ]
     },
     "metadata": {},
     "output_type": "display_data"
    },
    {
     "name": "stdout",
     "output_type": "stream",
     "text": [
      "\n",
      "\n",
      "\n",
      "\n",
      "### fabio | Porti Chiusi Italiani ###\n"
     ]
    },
    {
     "data": {
      "text/html": [
       "<div>\n",
       "<style scoped>\n",
       "    .dataframe tbody tr th:only-of-type {\n",
       "        vertical-align: middle;\n",
       "    }\n",
       "\n",
       "    .dataframe tbody tr th {\n",
       "        vertical-align: top;\n",
       "    }\n",
       "\n",
       "    .dataframe thead th {\n",
       "        text-align: right;\n",
       "    }\n",
       "</style>\n",
       "<table border=\"1\" class=\"dataframe\">\n",
       "  <thead>\n",
       "    <tr style=\"text-align: right;\">\n",
       "      <th></th>\n",
       "      <th>punti_fatti</th>\n",
       "      <th>punti_subiti</th>\n",
       "      <th>goal_subiti_por</th>\n",
       "      <th>cartellini</th>\n",
       "      <th>mod_difesa</th>\n",
       "      <th>GF</th>\n",
       "      <th>GS</th>\n",
       "      <th>esito</th>\n",
       "      <th>pti</th>\n",
       "      <th>Team</th>\n",
       "      <th>f_close_games</th>\n",
       "      <th>f_media_giornata</th>\n",
       "      <th>f_media_personale</th>\n",
       "    </tr>\n",
       "  </thead>\n",
       "  <tbody>\n",
       "    <tr>\n",
       "      <th>1</th>\n",
       "      <td>77.0</td>\n",
       "      <td>72.0</td>\n",
       "      <td>3</td>\n",
       "      <td>3</td>\n",
       "      <td>0</td>\n",
       "      <td>3</td>\n",
       "      <td>2</td>\n",
       "      <td>V</td>\n",
       "      <td>3</td>\n",
       "      <td>fabio</td>\n",
       "      <td>0</td>\n",
       "      <td>1.4</td>\n",
       "      <td>0.0</td>\n",
       "    </tr>\n",
       "    <tr>\n",
       "      <th>2</th>\n",
       "      <td>67.5</td>\n",
       "      <td>57.5</td>\n",
       "      <td>1</td>\n",
       "      <td>2</td>\n",
       "      <td>0</td>\n",
       "      <td>2</td>\n",
       "      <td>0</td>\n",
       "      <td>V</td>\n",
       "      <td>3</td>\n",
       "      <td>fabio</td>\n",
       "      <td>0</td>\n",
       "      <td>0.8</td>\n",
       "      <td>0.0</td>\n",
       "    </tr>\n",
       "  </tbody>\n",
       "</table>\n",
       "</div>"
      ],
      "text/plain": [
       "   punti_fatti  punti_subiti  goal_subiti_por  cartellini  mod_difesa  GF  GS  \\\n",
       "1         77.0          72.0                3           3           0   3   2   \n",
       "2         67.5          57.5                1           2           0   2   0   \n",
       "\n",
       "  esito  pti   Team  f_close_games  f_media_giornata  f_media_personale  \n",
       "1     V    3  fabio              0               1.4                0.0  \n",
       "2     V    3  fabio              0               0.8                0.0  "
      ]
     },
     "metadata": {},
     "output_type": "display_data"
    },
    {
     "name": "stdout",
     "output_type": "stream",
     "text": [
      "\n",
      "\n",
      "\n",
      "\n",
      "### enrico | Gianlucanonpressare ###\n"
     ]
    },
    {
     "data": {
      "text/html": [
       "<div>\n",
       "<style scoped>\n",
       "    .dataframe tbody tr th:only-of-type {\n",
       "        vertical-align: middle;\n",
       "    }\n",
       "\n",
       "    .dataframe tbody tr th {\n",
       "        vertical-align: top;\n",
       "    }\n",
       "\n",
       "    .dataframe thead th {\n",
       "        text-align: right;\n",
       "    }\n",
       "</style>\n",
       "<table border=\"1\" class=\"dataframe\">\n",
       "  <thead>\n",
       "    <tr style=\"text-align: right;\">\n",
       "      <th></th>\n",
       "      <th>punti_fatti</th>\n",
       "      <th>punti_subiti</th>\n",
       "      <th>goal_subiti_por</th>\n",
       "      <th>cartellini</th>\n",
       "      <th>mod_difesa</th>\n",
       "      <th>GF</th>\n",
       "      <th>GS</th>\n",
       "      <th>esito</th>\n",
       "      <th>pti</th>\n",
       "      <th>Team</th>\n",
       "      <th>f_close_games</th>\n",
       "      <th>f_media_giornata</th>\n",
       "      <th>f_media_personale</th>\n",
       "    </tr>\n",
       "  </thead>\n",
       "  <tbody>\n",
       "    <tr>\n",
       "      <th>1</th>\n",
       "      <td>79.5</td>\n",
       "      <td>61.0</td>\n",
       "      <td>1</td>\n",
       "      <td>2</td>\n",
       "      <td>3</td>\n",
       "      <td>3</td>\n",
       "      <td>0</td>\n",
       "      <td>V</td>\n",
       "      <td>3</td>\n",
       "      <td>enrico</td>\n",
       "      <td>0</td>\n",
       "      <td>1.4</td>\n",
       "      <td>0.0</td>\n",
       "    </tr>\n",
       "    <tr>\n",
       "      <th>2</th>\n",
       "      <td>57.5</td>\n",
       "      <td>67.5</td>\n",
       "      <td>2</td>\n",
       "      <td>4</td>\n",
       "      <td>0</td>\n",
       "      <td>0</td>\n",
       "      <td>2</td>\n",
       "      <td>S</td>\n",
       "      <td>0</td>\n",
       "      <td>enrico</td>\n",
       "      <td>0</td>\n",
       "      <td>-0.2</td>\n",
       "      <td>-3.0</td>\n",
       "    </tr>\n",
       "  </tbody>\n",
       "</table>\n",
       "</div>"
      ],
      "text/plain": [
       "   punti_fatti  punti_subiti  goal_subiti_por  cartellini  mod_difesa  GF  GS  \\\n",
       "1         79.5          61.0                1           2           3   3   0   \n",
       "2         57.5          67.5                2           4           0   0   2   \n",
       "\n",
       "  esito  pti    Team  f_close_games  f_media_giornata  f_media_personale  \n",
       "1     V    3  enrico              0               1.4                0.0  \n",
       "2     S    0  enrico              0              -0.2               -3.0  "
      ]
     },
     "metadata": {},
     "output_type": "display_data"
    },
    {
     "name": "stdout",
     "output_type": "stream",
     "text": [
      "\n",
      "\n",
      "\n",
      "\n",
      "### gabriele | Sciagura ###\n"
     ]
    },
    {
     "data": {
      "text/html": [
       "<div>\n",
       "<style scoped>\n",
       "    .dataframe tbody tr th:only-of-type {\n",
       "        vertical-align: middle;\n",
       "    }\n",
       "\n",
       "    .dataframe tbody tr th {\n",
       "        vertical-align: top;\n",
       "    }\n",
       "\n",
       "    .dataframe thead th {\n",
       "        text-align: right;\n",
       "    }\n",
       "</style>\n",
       "<table border=\"1\" class=\"dataframe\">\n",
       "  <thead>\n",
       "    <tr style=\"text-align: right;\">\n",
       "      <th></th>\n",
       "      <th>punti_fatti</th>\n",
       "      <th>punti_subiti</th>\n",
       "      <th>goal_subiti_por</th>\n",
       "      <th>cartellini</th>\n",
       "      <th>mod_difesa</th>\n",
       "      <th>GF</th>\n",
       "      <th>GS</th>\n",
       "      <th>esito</th>\n",
       "      <th>pti</th>\n",
       "      <th>Team</th>\n",
       "      <th>f_close_games</th>\n",
       "      <th>f_media_giornata</th>\n",
       "      <th>f_media_personale</th>\n",
       "    </tr>\n",
       "  </thead>\n",
       "  <tbody>\n",
       "    <tr>\n",
       "      <th>1</th>\n",
       "      <td>72</td>\n",
       "      <td>77.0</td>\n",
       "      <td>0</td>\n",
       "      <td>1</td>\n",
       "      <td>1</td>\n",
       "      <td>2</td>\n",
       "      <td>3</td>\n",
       "      <td>S</td>\n",
       "      <td>0</td>\n",
       "      <td>gabriele</td>\n",
       "      <td>0.0</td>\n",
       "      <td>-0.6</td>\n",
       "      <td>0.0</td>\n",
       "    </tr>\n",
       "    <tr>\n",
       "      <th>2</th>\n",
       "      <td>72</td>\n",
       "      <td>74.5</td>\n",
       "      <td>0</td>\n",
       "      <td>3</td>\n",
       "      <td>3</td>\n",
       "      <td>2</td>\n",
       "      <td>2</td>\n",
       "      <td>P</td>\n",
       "      <td>1</td>\n",
       "      <td>gabriele</td>\n",
       "      <td>0.5</td>\n",
       "      <td>-1.2</td>\n",
       "      <td>0.0</td>\n",
       "    </tr>\n",
       "  </tbody>\n",
       "</table>\n",
       "</div>"
      ],
      "text/plain": [
       "   punti_fatti  punti_subiti  goal_subiti_por  cartellini  mod_difesa  GF  GS  \\\n",
       "1           72          77.0                0           1           1   2   3   \n",
       "2           72          74.5                0           3           3   2   2   \n",
       "\n",
       "  esito  pti      Team  f_close_games  f_media_giornata  f_media_personale  \n",
       "1     S    0  gabriele            0.0              -0.6                0.0  \n",
       "2     P    1  gabriele            0.5              -1.2                0.0  "
      ]
     },
     "metadata": {},
     "output_type": "display_data"
    },
    {
     "name": "stdout",
     "output_type": "stream",
     "text": [
      "\n",
      "\n",
      "\n",
      "\n",
      "### luca | Nottingham Forrest Gump ###\n"
     ]
    },
    {
     "data": {
      "text/html": [
       "<div>\n",
       "<style scoped>\n",
       "    .dataframe tbody tr th:only-of-type {\n",
       "        vertical-align: middle;\n",
       "    }\n",
       "\n",
       "    .dataframe tbody tr th {\n",
       "        vertical-align: top;\n",
       "    }\n",
       "\n",
       "    .dataframe thead th {\n",
       "        text-align: right;\n",
       "    }\n",
       "</style>\n",
       "<table border=\"1\" class=\"dataframe\">\n",
       "  <thead>\n",
       "    <tr style=\"text-align: right;\">\n",
       "      <th></th>\n",
       "      <th>punti_fatti</th>\n",
       "      <th>punti_subiti</th>\n",
       "      <th>goal_subiti_por</th>\n",
       "      <th>cartellini</th>\n",
       "      <th>mod_difesa</th>\n",
       "      <th>GF</th>\n",
       "      <th>GS</th>\n",
       "      <th>esito</th>\n",
       "      <th>pti</th>\n",
       "      <th>Team</th>\n",
       "      <th>f_close_games</th>\n",
       "      <th>f_media_giornata</th>\n",
       "      <th>f_media_personale</th>\n",
       "    </tr>\n",
       "  </thead>\n",
       "  <tbody>\n",
       "    <tr>\n",
       "      <th>1</th>\n",
       "      <td>77.5</td>\n",
       "      <td>82</td>\n",
       "      <td>0</td>\n",
       "      <td>1</td>\n",
       "      <td>3</td>\n",
       "      <td>3</td>\n",
       "      <td>4</td>\n",
       "      <td>S</td>\n",
       "      <td>0</td>\n",
       "      <td>luca</td>\n",
       "      <td>-0.1</td>\n",
       "      <td>-1.6</td>\n",
       "      <td>0.0</td>\n",
       "    </tr>\n",
       "    <tr>\n",
       "      <th>2</th>\n",
       "      <td>74.5</td>\n",
       "      <td>72</td>\n",
       "      <td>2</td>\n",
       "      <td>1</td>\n",
       "      <td>1</td>\n",
       "      <td>2</td>\n",
       "      <td>2</td>\n",
       "      <td>P</td>\n",
       "      <td>1</td>\n",
       "      <td>luca</td>\n",
       "      <td>-1.0</td>\n",
       "      <td>-1.2</td>\n",
       "      <td>-2.0</td>\n",
       "    </tr>\n",
       "  </tbody>\n",
       "</table>\n",
       "</div>"
      ],
      "text/plain": [
       "   punti_fatti  punti_subiti  goal_subiti_por  cartellini  mod_difesa  GF  GS  \\\n",
       "1         77.5            82                0           1           3   3   4   \n",
       "2         74.5            72                2           1           1   2   2   \n",
       "\n",
       "  esito  pti  Team  f_close_games  f_media_giornata  f_media_personale  \n",
       "1     S    0  luca           -0.1              -1.6                0.0  \n",
       "2     P    1  luca           -1.0              -1.2               -2.0  "
      ]
     },
     "metadata": {},
     "output_type": "display_data"
    },
    {
     "name": "stdout",
     "output_type": "stream",
     "text": [
      "\n",
      "\n",
      "\n",
      "\n",
      "### ale | Sanfa ###\n"
     ]
    },
    {
     "data": {
      "text/html": [
       "<div>\n",
       "<style scoped>\n",
       "    .dataframe tbody tr th:only-of-type {\n",
       "        vertical-align: middle;\n",
       "    }\n",
       "\n",
       "    .dataframe tbody tr th {\n",
       "        vertical-align: top;\n",
       "    }\n",
       "\n",
       "    .dataframe thead th {\n",
       "        text-align: right;\n",
       "    }\n",
       "</style>\n",
       "<table border=\"1\" class=\"dataframe\">\n",
       "  <thead>\n",
       "    <tr style=\"text-align: right;\">\n",
       "      <th></th>\n",
       "      <th>punti_fatti</th>\n",
       "      <th>punti_subiti</th>\n",
       "      <th>goal_subiti_por</th>\n",
       "      <th>cartellini</th>\n",
       "      <th>mod_difesa</th>\n",
       "      <th>GF</th>\n",
       "      <th>GS</th>\n",
       "      <th>esito</th>\n",
       "      <th>pti</th>\n",
       "      <th>Team</th>\n",
       "      <th>f_close_games</th>\n",
       "      <th>f_media_giornata</th>\n",
       "      <th>f_media_personale</th>\n",
       "    </tr>\n",
       "  </thead>\n",
       "  <tbody>\n",
       "    <tr>\n",
       "      <th>1</th>\n",
       "      <td>61</td>\n",
       "      <td>79.5</td>\n",
       "      <td>2</td>\n",
       "      <td>1</td>\n",
       "      <td>0</td>\n",
       "      <td>0</td>\n",
       "      <td>3</td>\n",
       "      <td>S</td>\n",
       "      <td>0</td>\n",
       "      <td>ale</td>\n",
       "      <td>0.0</td>\n",
       "      <td>0.0</td>\n",
       "      <td>0.0</td>\n",
       "    </tr>\n",
       "    <tr>\n",
       "      <th>2</th>\n",
       "      <td>67</td>\n",
       "      <td>63.5</td>\n",
       "      <td>1</td>\n",
       "      <td>0</td>\n",
       "      <td>0</td>\n",
       "      <td>1</td>\n",
       "      <td>0</td>\n",
       "      <td>V</td>\n",
       "      <td>3</td>\n",
       "      <td>ale</td>\n",
       "      <td>0.6</td>\n",
       "      <td>1.8</td>\n",
       "      <td>2.0</td>\n",
       "    </tr>\n",
       "  </tbody>\n",
       "</table>\n",
       "</div>"
      ],
      "text/plain": [
       "   punti_fatti  punti_subiti  goal_subiti_por  cartellini  mod_difesa  GF  GS  \\\n",
       "1           61          79.5                2           1           0   0   3   \n",
       "2           67          63.5                1           0           0   1   0   \n",
       "\n",
       "  esito  pti Team  f_close_games  f_media_giornata  f_media_personale  \n",
       "1     S    0  ale            0.0               0.0                0.0  \n",
       "2     V    3  ale            0.6               1.8                2.0  "
      ]
     },
     "metadata": {},
     "output_type": "display_data"
    },
    {
     "name": "stdout",
     "output_type": "stream",
     "text": [
      "\n",
      "\n",
      "\n",
      "\n"
     ]
    }
   ],
   "source": [
    "### Fill dataframe per partita #############################\n",
    "for team, df in Results.items():\n",
    "    Results[team] = Results[team][0:0]\n",
    "    Results[team] = pd.read_csv(team+'.txt', sep=' ', names=parameters, skiprows=1)\n",
    "    Results[team]['GF'] = Results[team].apply(lambda x: get_goal(x['punti_fatti'],x['punti_subiti']), axis=1)\n",
    "    Results[team]['GS'] = Results[team].apply(lambda x: get_goal(x['punti_subiti'],x['punti_fatti']), axis=1)\n",
    "    Results[team]['esito'] = Results[team].apply(lambda x: esito(x['GF'],x['GS']), axis=1)\n",
    "    Results[team]['pti'] = Results[team].apply(lambda x: punti(x['esito']), axis=1)\n",
    "    Results[team] = Results[team].assign(Team=team)\n",
    "    Results[team]['f_close_games'] = Results[team].apply(lambda x: pti_guadagnati_diff(x['punti_fatti'],x['punti_subiti'],x['pti']), axis=1)\n",
    "    \n",
    "       \n",
    "### Global variables #############################\n",
    "giornate = max(Results[list(Teams.keys())[0]].index)\n",
    "\n",
    "### concatenate team dataframes ##################\n",
    "cdf = pd.concat(Results)\n",
    "pf_mean = np.mean(cdf.punti_fatti)\n",
    "pf_med = np.median(cdf.punti_fatti)\n",
    "pf_std = np.std(cdf.punti_fatti)\n",
    "ps_med = np.median(cdf.punti_subiti)\n",
    "ps_std = np.std(cdf.punti_subiti)\n",
    "gf_mean = np.mean(cdf.GF)\n",
    "gf_med = np.median(cdf.GF)\n",
    "gf_std = np.std(cdf.GF)\n",
    "print('### CUMULATIVE DATA after', giornate, 'rounds ###')\n",
    "print('Punti Fatti:\\n media =', pf_mean, '\\n mediana =', pf_med, '\\n varianza =', pf_std, \n",
    "      #'\\nPunti Subiti:\\n mediana =', ps_med, '\\n varianza =', ps_std, \n",
    "      '\\nGoal Fatti:\\n media =', gf_mean, '\\n mediana =', gf_med, '\\n varianza =', gf_std\n",
    "     )\n",
    "#display(cdf)\n",
    "#cdf.index\n",
    "    \n",
    "media_personale={}\n",
    "for team, new_df in cdf.groupby(level=0):\n",
    "    media_personale[team]=np.mean(new_df.punti_fatti)\n",
    "    \n",
    "print('\\n Medie personali:')\n",
    "display(media_personale)\n",
    "    \n",
    "def pti_guadagnati_media(gf,pti,giornata):\n",
    "    '''Ritorna guadagno in punti rispetto al valore atteso considerando i goal fatti dagli altri giocatori, in quella giornata'''\n",
    "    exp_pti=0\n",
    "    for team in Teams.keys():\n",
    "        exp_pti=exp_pti+punti(esito(gf,Results[team].at[giornata,'GF']))\n",
    "    return pti-(exp_pti-1)/(n_giocatori-1)  # -1 per eliminare il caso di essere contro sé stessi\n",
    "\n",
    "def pti_guadagnati_mediaP(gs,pti,team,giornata):\n",
    "    '''Ritorna guadagno in punti rispetto al valore atteso considerando i goal fatti dal giocatore nelle giornate precedenti'''\n",
    "    exp_pti=0\n",
    "    for g in range(1, giornata):\n",
    "        exp_pti=exp_pti+punti(esito(Results[team].at[g,'GF'],gs))\n",
    "    return pti-exp_pti/(giornata-1)\n",
    "\n",
    "for team, df in Results.items():\n",
    "    #Results[team]['f_media_giornata']=0\n",
    "    for g in range(1,giornate+1):\n",
    "        Results[team].at[g,'f_media_giornata'] = pti_guadagnati_media(Results[team].at[g,'GF'],Results[team].at[g,'pti'],g)\n",
    "    Results[team].at[1,'f_media_personale'] = 0\n",
    "    for g in range(2,giornate+1):\n",
    "        Results[team].at[g,'f_media_personale'] = pti_guadagnati_mediaP(Results[team].at[g,'GS'],Results[team].at[g,'pti'],team,g)\n",
    "    \n",
    "    print('###', team, '|', Teams[team][0], '###')\n",
    "    display(Results[team])\n",
    "    print('\\n\\n\\n')"
   ]
  },
  {
   "cell_type": "code",
   "execution_count": 17,
   "metadata": {
    "scrolled": true
   },
   "outputs": [
    {
     "name": "stdout",
     "output_type": "stream",
     "text": [
      "... Filling Total df ...\n",
      "### Dati cumulati dopo 2 giornate ###\n"
     ]
    },
    {
     "data": {
      "text/html": [
       "<div>\n",
       "<style scoped>\n",
       "    .dataframe tbody tr th:only-of-type {\n",
       "        vertical-align: middle;\n",
       "    }\n",
       "\n",
       "    .dataframe tbody tr th {\n",
       "        vertical-align: top;\n",
       "    }\n",
       "\n",
       "    .dataframe thead th {\n",
       "        text-align: right;\n",
       "    }\n",
       "</style>\n",
       "<table border=\"1\" class=\"dataframe\">\n",
       "  <thead>\n",
       "    <tr style=\"text-align: right;\">\n",
       "      <th></th>\n",
       "      <th>punti_fatti</th>\n",
       "      <th>punti_subiti</th>\n",
       "      <th>goal_subiti_por</th>\n",
       "      <th>cartellini</th>\n",
       "      <th>mod_difesa</th>\n",
       "      <th>GF</th>\n",
       "      <th>GS</th>\n",
       "      <th>esito</th>\n",
       "      <th>pti</th>\n",
       "      <th>f_close_games</th>\n",
       "      <th>f_media_giornata</th>\n",
       "      <th>f_media_personale</th>\n",
       "      <th>pos</th>\n",
       "      <th>rank</th>\n",
       "      <th>distacco</th>\n",
       "      <th>f_pos</th>\n",
       "      <th>f_distacco</th>\n",
       "      <th>x_punti_subiti</th>\n",
       "      <th>x_GS</th>\n",
       "      <th>f_GS</th>\n",
       "    </tr>\n",
       "    <tr>\n",
       "      <th>Team</th>\n",
       "      <th></th>\n",
       "      <th></th>\n",
       "      <th></th>\n",
       "      <th></th>\n",
       "      <th></th>\n",
       "      <th></th>\n",
       "      <th></th>\n",
       "      <th></th>\n",
       "      <th></th>\n",
       "      <th></th>\n",
       "      <th></th>\n",
       "      <th></th>\n",
       "      <th></th>\n",
       "      <th></th>\n",
       "      <th></th>\n",
       "      <th></th>\n",
       "      <th></th>\n",
       "      <th></th>\n",
       "      <th></th>\n",
       "      <th></th>\n",
       "    </tr>\n",
       "  </thead>\n",
       "  <tbody>\n",
       "    <tr>\n",
       "      <th>fabio</th>\n",
       "      <td>144.5</td>\n",
       "      <td>129.5</td>\n",
       "      <td>4</td>\n",
       "      <td>5</td>\n",
       "      <td>0</td>\n",
       "      <td>5</td>\n",
       "      <td>2</td>\n",
       "      <td>VV</td>\n",
       "      <td>6</td>\n",
       "      <td>0.0</td>\n",
       "      <td>2.2</td>\n",
       "      <td>0.0</td>\n",
       "      <td>1.0</td>\n",
       "      <td>3.0</td>\n",
       "      <td>0</td>\n",
       "      <td>2.0</td>\n",
       "      <td>1.758018</td>\n",
       "      <td>141.3</td>\n",
       "      <td>3.4</td>\n",
       "      <td>0.939149</td>\n",
       "    </tr>\n",
       "    <tr>\n",
       "      <th>gianluca</th>\n",
       "      <td>145.5</td>\n",
       "      <td>144.5</td>\n",
       "      <td>2</td>\n",
       "      <td>4</td>\n",
       "      <td>1</td>\n",
       "      <td>4</td>\n",
       "      <td>4</td>\n",
       "      <td>VS</td>\n",
       "      <td>3</td>\n",
       "      <td>-0.1</td>\n",
       "      <td>-0.2</td>\n",
       "      <td>-3.0</td>\n",
       "      <td>2.0</td>\n",
       "      <td>2.0</td>\n",
       "      <td>3</td>\n",
       "      <td>0.0</td>\n",
       "      <td>-0.165245</td>\n",
       "      <td>141.1</td>\n",
       "      <td>3.6</td>\n",
       "      <td>-0.268328</td>\n",
       "    </tr>\n",
       "    <tr>\n",
       "      <th>enrico</th>\n",
       "      <td>137.0</td>\n",
       "      <td>128.5</td>\n",
       "      <td>3</td>\n",
       "      <td>6</td>\n",
       "      <td>3</td>\n",
       "      <td>3</td>\n",
       "      <td>2</td>\n",
       "      <td>VS</td>\n",
       "      <td>3</td>\n",
       "      <td>0.0</td>\n",
       "      <td>1.2</td>\n",
       "      <td>-3.0</td>\n",
       "      <td>3.0</td>\n",
       "      <td>5.0</td>\n",
       "      <td>3</td>\n",
       "      <td>2.0</td>\n",
       "      <td>0.958420</td>\n",
       "      <td>142.8</td>\n",
       "      <td>3.8</td>\n",
       "      <td>1.207477</td>\n",
       "    </tr>\n",
       "    <tr>\n",
       "      <th>ale</th>\n",
       "      <td>128.0</td>\n",
       "      <td>143.0</td>\n",
       "      <td>3</td>\n",
       "      <td>1</td>\n",
       "      <td>0</td>\n",
       "      <td>1</td>\n",
       "      <td>3</td>\n",
       "      <td>SV</td>\n",
       "      <td>3</td>\n",
       "      <td>0.6</td>\n",
       "      <td>1.8</td>\n",
       "      <td>2.0</td>\n",
       "      <td>4.0</td>\n",
       "      <td>6.0</td>\n",
       "      <td>3</td>\n",
       "      <td>2.0</td>\n",
       "      <td>2.148182</td>\n",
       "      <td>144.6</td>\n",
       "      <td>4.2</td>\n",
       "      <td>0.804984</td>\n",
       "    </tr>\n",
       "    <tr>\n",
       "      <th>luca</th>\n",
       "      <td>152.0</td>\n",
       "      <td>154.0</td>\n",
       "      <td>2</td>\n",
       "      <td>2</td>\n",
       "      <td>4</td>\n",
       "      <td>5</td>\n",
       "      <td>6</td>\n",
       "      <td>SP</td>\n",
       "      <td>1</td>\n",
       "      <td>-1.1</td>\n",
       "      <td>-2.8</td>\n",
       "      <td>-2.0</td>\n",
       "      <td>5.0</td>\n",
       "      <td>1.0</td>\n",
       "      <td>5</td>\n",
       "      <td>-4.0</td>\n",
       "      <td>-2.218562</td>\n",
       "      <td>139.8</td>\n",
       "      <td>3.4</td>\n",
       "      <td>-1.744133</td>\n",
       "    </tr>\n",
       "    <tr>\n",
       "      <th>gabriele</th>\n",
       "      <td>144.0</td>\n",
       "      <td>151.5</td>\n",
       "      <td>0</td>\n",
       "      <td>4</td>\n",
       "      <td>4</td>\n",
       "      <td>4</td>\n",
       "      <td>5</td>\n",
       "      <td>SP</td>\n",
       "      <td>1</td>\n",
       "      <td>0.5</td>\n",
       "      <td>-1.8</td>\n",
       "      <td>0.0</td>\n",
       "      <td>6.0</td>\n",
       "      <td>4.0</td>\n",
       "      <td>5</td>\n",
       "      <td>-2.0</td>\n",
       "      <td>-1.160996</td>\n",
       "      <td>141.4</td>\n",
       "      <td>3.6</td>\n",
       "      <td>-0.939149</td>\n",
       "    </tr>\n",
       "  </tbody>\n",
       "</table>\n",
       "</div>"
      ],
      "text/plain": [
       "          punti_fatti  punti_subiti  goal_subiti_por  cartellini  mod_difesa  \\\n",
       "Team                                                                           \n",
       "fabio           144.5         129.5                4           5           0   \n",
       "gianluca        145.5         144.5                2           4           1   \n",
       "enrico          137.0         128.5                3           6           3   \n",
       "ale             128.0         143.0                3           1           0   \n",
       "luca            152.0         154.0                2           2           4   \n",
       "gabriele        144.0         151.5                0           4           4   \n",
       "\n",
       "          GF  GS esito  pti  f_close_games  f_media_giornata  \\\n",
       "Team                                                           \n",
       "fabio      5   2    VV    6            0.0               2.2   \n",
       "gianluca   4   4    VS    3           -0.1              -0.2   \n",
       "enrico     3   2    VS    3            0.0               1.2   \n",
       "ale        1   3    SV    3            0.6               1.8   \n",
       "luca       5   6    SP    1           -1.1              -2.8   \n",
       "gabriele   4   5    SP    1            0.5              -1.8   \n",
       "\n",
       "          f_media_personale  pos  rank  distacco  f_pos  f_distacco  \\\n",
       "Team                                                                  \n",
       "fabio                   0.0  1.0   3.0         0    2.0    1.758018   \n",
       "gianluca               -3.0  2.0   2.0         3    0.0   -0.165245   \n",
       "enrico                 -3.0  3.0   5.0         3    2.0    0.958420   \n",
       "ale                     2.0  4.0   6.0         3    2.0    2.148182   \n",
       "luca                   -2.0  5.0   1.0         5   -4.0   -2.218562   \n",
       "gabriele                0.0  6.0   4.0         5   -2.0   -1.160996   \n",
       "\n",
       "          x_punti_subiti  x_GS      f_GS  \n",
       "Team                                      \n",
       "fabio              141.3   3.4  0.939149  \n",
       "gianluca           141.1   3.6 -0.268328  \n",
       "enrico             142.8   3.8  1.207477  \n",
       "ale                144.6   4.2  0.804984  \n",
       "luca               139.8   3.4 -1.744133  \n",
       "gabriele           141.4   3.6 -0.939149  "
      ]
     },
     "metadata": {},
     "output_type": "display_data"
    },
    {
     "name": "stdout",
     "output_type": "stream",
     "text": [
      "\n",
      "### Dati giornata numero  2  ###\n"
     ]
    },
    {
     "data": {
      "text/html": [
       "<div>\n",
       "<style scoped>\n",
       "    .dataframe tbody tr th:only-of-type {\n",
       "        vertical-align: middle;\n",
       "    }\n",
       "\n",
       "    .dataframe tbody tr th {\n",
       "        vertical-align: top;\n",
       "    }\n",
       "\n",
       "    .dataframe thead th {\n",
       "        text-align: right;\n",
       "    }\n",
       "</style>\n",
       "<table border=\"1\" class=\"dataframe\">\n",
       "  <thead>\n",
       "    <tr style=\"text-align: right;\">\n",
       "      <th></th>\n",
       "      <th>punti_fatti</th>\n",
       "      <th>punti_subiti</th>\n",
       "      <th>goal_subiti_por</th>\n",
       "      <th>cartellini</th>\n",
       "      <th>mod_difesa</th>\n",
       "      <th>GF</th>\n",
       "      <th>GS</th>\n",
       "      <th>esito</th>\n",
       "      <th>pti</th>\n",
       "      <th>f_close_games</th>\n",
       "      <th>f_media_giornata</th>\n",
       "      <th>f_media_personale</th>\n",
       "    </tr>\n",
       "    <tr>\n",
       "      <th>Team</th>\n",
       "      <th></th>\n",
       "      <th></th>\n",
       "      <th></th>\n",
       "      <th></th>\n",
       "      <th></th>\n",
       "      <th></th>\n",
       "      <th></th>\n",
       "      <th></th>\n",
       "      <th></th>\n",
       "      <th></th>\n",
       "      <th></th>\n",
       "      <th></th>\n",
       "    </tr>\n",
       "  </thead>\n",
       "  <tbody>\n",
       "    <tr>\n",
       "      <th>ale</th>\n",
       "      <td>67.0</td>\n",
       "      <td>63.5</td>\n",
       "      <td>1</td>\n",
       "      <td>0</td>\n",
       "      <td>0</td>\n",
       "      <td>1</td>\n",
       "      <td>0</td>\n",
       "      <td>V</td>\n",
       "      <td>3</td>\n",
       "      <td>0.6</td>\n",
       "      <td>1.8</td>\n",
       "      <td>2.0</td>\n",
       "    </tr>\n",
       "    <tr>\n",
       "      <th>enrico</th>\n",
       "      <td>57.5</td>\n",
       "      <td>67.5</td>\n",
       "      <td>2</td>\n",
       "      <td>4</td>\n",
       "      <td>0</td>\n",
       "      <td>0</td>\n",
       "      <td>2</td>\n",
       "      <td>S</td>\n",
       "      <td>0</td>\n",
       "      <td>0.0</td>\n",
       "      <td>-0.2</td>\n",
       "      <td>-3.0</td>\n",
       "    </tr>\n",
       "    <tr>\n",
       "      <th>fabio</th>\n",
       "      <td>67.5</td>\n",
       "      <td>57.5</td>\n",
       "      <td>1</td>\n",
       "      <td>2</td>\n",
       "      <td>0</td>\n",
       "      <td>2</td>\n",
       "      <td>0</td>\n",
       "      <td>V</td>\n",
       "      <td>3</td>\n",
       "      <td>0.0</td>\n",
       "      <td>0.8</td>\n",
       "      <td>0.0</td>\n",
       "    </tr>\n",
       "    <tr>\n",
       "      <th>gabriele</th>\n",
       "      <td>72.0</td>\n",
       "      <td>74.5</td>\n",
       "      <td>0</td>\n",
       "      <td>3</td>\n",
       "      <td>3</td>\n",
       "      <td>2</td>\n",
       "      <td>2</td>\n",
       "      <td>P</td>\n",
       "      <td>1</td>\n",
       "      <td>0.5</td>\n",
       "      <td>-1.2</td>\n",
       "      <td>0.0</td>\n",
       "    </tr>\n",
       "    <tr>\n",
       "      <th>gianluca</th>\n",
       "      <td>63.5</td>\n",
       "      <td>67.0</td>\n",
       "      <td>1</td>\n",
       "      <td>3</td>\n",
       "      <td>0</td>\n",
       "      <td>0</td>\n",
       "      <td>1</td>\n",
       "      <td>S</td>\n",
       "      <td>0</td>\n",
       "      <td>-0.3</td>\n",
       "      <td>-0.2</td>\n",
       "      <td>-3.0</td>\n",
       "    </tr>\n",
       "    <tr>\n",
       "      <th>luca</th>\n",
       "      <td>74.5</td>\n",
       "      <td>72.0</td>\n",
       "      <td>2</td>\n",
       "      <td>1</td>\n",
       "      <td>1</td>\n",
       "      <td>2</td>\n",
       "      <td>2</td>\n",
       "      <td>P</td>\n",
       "      <td>1</td>\n",
       "      <td>-1.0</td>\n",
       "      <td>-1.2</td>\n",
       "      <td>-2.0</td>\n",
       "    </tr>\n",
       "  </tbody>\n",
       "</table>\n",
       "</div>"
      ],
      "text/plain": [
       "          punti_fatti  punti_subiti  goal_subiti_por  cartellini  mod_difesa  \\\n",
       "Team                                                                           \n",
       "ale              67.0          63.5                1           0           0   \n",
       "enrico           57.5          67.5                2           4           0   \n",
       "fabio            67.5          57.5                1           2           0   \n",
       "gabriele         72.0          74.5                0           3           3   \n",
       "gianluca         63.5          67.0                1           3           0   \n",
       "luca             74.5          72.0                2           1           1   \n",
       "\n",
       "          GF  GS esito  pti  f_close_games  f_media_giornata  \\\n",
       "Team                                                           \n",
       "ale        1   0     V    3            0.6               1.8   \n",
       "enrico     0   2     S    0            0.0              -0.2   \n",
       "fabio      2   0     V    3            0.0               0.8   \n",
       "gabriele   2   2     P    1            0.5              -1.2   \n",
       "gianluca   0   1     S    0           -0.3              -0.2   \n",
       "luca       2   2     P    1           -1.0              -1.2   \n",
       "\n",
       "          f_media_personale  \n",
       "Team                         \n",
       "ale                     2.0  \n",
       "enrico                 -3.0  \n",
       "fabio                   0.0  \n",
       "gabriele                0.0  \n",
       "gianluca               -3.0  \n",
       "luca                   -2.0  "
      ]
     },
     "metadata": {},
     "output_type": "display_data"
    }
   ],
   "source": [
    "### Total values dataframe #######################\n",
    "def low_scoring_games(verbose=False, data=Results, giornate=max(Results[list(Teams.keys())[0]].index)):\n",
    "    '''Compute close games per team and add factor to Total dataframe'''\n",
    "    factor_low_scoring_games = []\n",
    "    for team, df in data.items():\n",
    "        df = df[df.index <= giornate]\n",
    "        if verbose: print('\\n###', team, '###')\n",
    "        pti=0\n",
    "        g = 0\n",
    "        for gg in df.index:     \n",
    "            if df['punti_fatti'][gg] < low_score:\n",
    "                res = esito(df.GF[gg], df.GS[gg])\n",
    "                if verbose: print('G', gg, '| punti fatti:', df.punti_fatti[gg], ' ( subiti:', df.punti_subiti[gg],') |', res, '(', df.GF[gg], '-', df.GS[gg], ')')\n",
    "                pti = pti+punti(res)\n",
    "                g = g+1\n",
    "        try:\n",
    "            if verbose: print('---> %d punti in %d giornate \\n     (media: %.2f)' % (pti, g, pti/g))\n",
    "            factor_close_games.append(pti-g)\n",
    "        except:\n",
    "            if verbose: print('---> No games found')\n",
    "            factor_close_games.append(0)\n",
    "    return factor_low_scoring_games\n",
    "\n",
    "\n",
    "def expected_punti(verbose=False, data=Results, giornate=max(Results[list(Teams.keys())[0]].index)):\n",
    "    '''Compute expected punti and add factor to Total dataframe'''\n",
    "    factor = []\n",
    "    for team, df in data.items():\n",
    "        df = df[df.index <= giornate]\n",
    "        if verbose: print('\\n###', team, '###')\n",
    "        pti_guadagnati=0\n",
    "        g=0\n",
    "        for gg in df.index:\n",
    "            diff=df['punti_fatti'][gg]-df['punti_subiti'][gg]\n",
    "            res = esito(df.GF[gg], df.GS[gg])\n",
    "            pti=punti(res)\n",
    "            if diff <-step:\n",
    "                exp_pti=0\n",
    "            elif diff >=step:\n",
    "                exp_pti=3\n",
    "            elif diff >=-step and diff<0:\n",
    "                exp_pti=1+diff/step\n",
    "            elif diff >=0 and diff<step:\n",
    "                exp_pti=1+2*diff/step\n",
    "            pti_guadagnati=pti_guadagnati+pti-exp_pti\n",
    "            if (pti-exp_pti)!=0:\n",
    "                g=g+1\n",
    "                if verbose: print('G', gg, '| punti fatti:', df.punti_fatti[gg], ' ( subiti:', df.punti_subiti[gg],') |', res, '(', df.GF[gg], '-', df.GS[gg], ') | guadagnati: %.1f' % (pti-exp_pti))                \n",
    "        factor.append(pti_guadagnati)\n",
    "        try:\n",
    "            if verbose: print('---> %.1f punti guadagnati in %d giornate' % (pti_guadagnati, g))\n",
    "        except:\n",
    "            if verbose: print('---> Nessuna partita con differenza <', step)\n",
    "    return factor\n",
    "    \n",
    "\n",
    "def make_Total_df(data=Results, giornate=max(Results[list(Teams.keys())[0]].index)):\n",
    "    columns = list(data[list(Teams.keys())[0]])\n",
    "    table = [[]]\n",
    "    for team,df in data.items():\n",
    "        df = df[df.index <= giornate]\n",
    "        values = []\n",
    "        for col in columns:\n",
    "            values.append(df[col].sum())\n",
    "        values[len(values)-4]=team\n",
    "        table.append(values)\n",
    "    table=table[1:]\n",
    "    Total=pd.DataFrame(table,columns=columns)\n",
    "    # additional columns\n",
    "    Total = Total.sort_values(by=['punti_fatti'], ascending=False)\n",
    "    Total['pos'] = Total['pti'].rank(ascending=False, method='first')\n",
    "    Total['rank'] = Total['punti_fatti'].rank(ascending=False, method='first')\n",
    "    Total['distacco'] = np.max(Total['pti']) - Total['pti']\n",
    "    Total['f_pos'] = Total['rank']-Total['pos'] #(posizione fantapunti)-(posizione punti)\n",
    "    Total['f_distacco'] = fattore_distacco(Total)\n",
    "    Total['x_punti_subiti'] = (Total['punti_fatti'].sum() - Total['punti_fatti'])/(n_giocatori-1)\n",
    "    Total['x_GS'] = (Total['GF'].sum() - Total['GF'])/(n_giocatori-1) #valore atteso di gol subiti mediamente affrontando gli altri n-1\n",
    "    Total['f_GS'] = -1*(Total['GS']-Total['x_GS'])/np.std(Total['GS'])\n",
    "    Total.sort_index(inplace=True)\n",
    "    #Total['f_stolen_games'] = exact_fp(giornate=giornate)\n",
    "    #Total['f_unlucky_opponent'] = opponent_almost_scored(giornate=giornate)\n",
    "    return Total\n",
    "\n",
    "#build full Total dataframe\n",
    "print('... Filling Total df ...')\n",
    "Total = make_Total_df()\n",
    "\n",
    "#Mostra dataframe totale ordinato secondo la classifica\n",
    "Total2=Total.set_index('Team')\n",
    "Total2.sort_values(by=['pti', 'punti_fatti'], inplace=True, ascending=False)\n",
    "print('### Dati cumulati dopo', giornate, 'giornate ###')\n",
    "display(Total2)\n",
    "\n",
    "\n",
    "#Dataframe per i risultati dell'ultima giornata\n",
    "cdf = pd.concat(Results)\n",
    "print('\\n### Dati giornata numero ', giornate, ' ###')\n",
    "cdf_g=cdf.xs(giornate, level=1)\n",
    "cdf_g.set_index('Team', inplace=True)\n",
    "display(cdf_g)\n"
   ]
  },
  {
   "cell_type": "markdown",
   "metadata": {},
   "source": [
    "# [>] Expected Punti/Goal Subiti"
   ]
  },
  {
   "cell_type": "code",
   "execution_count": 18,
   "metadata": {},
   "outputs": [
    {
     "name": "stderr",
     "output_type": "stream",
     "text": [
      "C:\\Users\\Luca\\Anaconda3\\lib\\site-packages\\matplotlib\\font_manager.py:1241: UserWarning: findfont: Font family ['sans-serif'] not found. Falling back to DejaVu Sans.\n",
      "  (prop.get_family(), self.defaultFamily[fontext]))\n",
      "C:\\Users\\Luca\\Anaconda3\\lib\\site-packages\\matplotlib\\font_manager.py:1241: UserWarning: findfont: Font family ['sans-serif'] not found. Falling back to DejaVu Sans.\n",
      "  (prop.get_family(), self.defaultFamily[fontext]))\n",
      "C:\\Users\\Luca\\Anaconda3\\lib\\site-packages\\matplotlib\\font_manager.py:1241: UserWarning: findfont: Font family ['sans-serif'] not found. Falling back to DejaVu Sans.\n",
      "  (prop.get_family(), self.defaultFamily[fontext]))\n",
      "C:\\Users\\Luca\\Anaconda3\\lib\\site-packages\\matplotlib\\font_manager.py:1241: UserWarning: findfont: Font family ['sans-serif'] not found. Falling back to DejaVu Sans.\n",
      "  (prop.get_family(), self.defaultFamily[fontext]))\n"
     ]
    },
    {
     "data": {
      "image/png": "[encoded data removed]",
      "text/plain": [
       "<Figure size 576x360 with 1 Axes>"
      ]
     },
     "metadata": {
      "needs_background": "light"
     },
     "output_type": "display_data"
    }
   ],
   "source": [
    "fig = plt.figure(figsize=(8,5))\n",
    "\n",
    "colors = get_team_colors()\n",
    "\n",
    "plt.bar(np.arange(0,n_giocatori), Total['x_GS'], color=colors, alpha=0.2, label='Expected Goal Subiti')\n",
    "plt.bar(np.arange(0,n_giocatori), Total['GS'], color=colors, alpha=0.99, width=0.5, label='GS')\n",
    "xlabels = Total['Team']\n",
    "plt.xticks(Total.index, xlabels, rotation=45, ha='right')\n",
    "plt.grid(which='both', axis='y', alpha=0.25)\n",
    "\n",
    "plt.ylim(bottom = min(Total['GS']-1))\n",
    "plt.ylabel('Goal Subiti')\n",
    "title = 'x Goal Subiti (' + str(giornate) + ' Giornate)'\n",
    "plt.title(title)\n",
    "\n",
    "plt.legend()\n",
    "\n",
    "plt.show()"
   ]
  },
  {
   "cell_type": "code",
   "execution_count": 19,
   "metadata": {},
   "outputs": [
    {
     "name": "stderr",
     "output_type": "stream",
     "text": [
      "C:\\Users\\Luca\\Anaconda3\\lib\\site-packages\\matplotlib\\font_manager.py:1241: UserWarning: findfont: Font family ['sans-serif'] not found. Falling back to DejaVu Sans.\n",
      "  (prop.get_family(), self.defaultFamily[fontext]))\n"
     ]
    },
    {
     "data": {
      "image/png": "[encoded data removed]",
      "text/plain": [
       "<Figure size 432x360 with 1 Axes>"
      ]
     },
     "metadata": {
      "needs_background": "light"
     },
     "output_type": "display_data"
    }
   ],
   "source": [
    "fig = plt.figure(figsize=(6,5))\n",
    "plt.grid(which='both', axis='y', ls='-', alpha=0.25)\n",
    "\n",
    "colors = get_team_colors()\n",
    "\n",
    "std = np.std(Total['GS'])\n",
    "plt.bar(np.arange(0,n_giocatori), -1*(Total['GS']-Total['x_GS'])/std, color=colors, alpha=0.99, width=0.8, label='Fattore GS')\n",
    "xlabels = Total['Team']\n",
    "plt.xticks(Total.index, xlabels, rotation=45, ha='right')\n",
    "plt.axhline(y=0, xmin=-100, xmax=100, color='grey', ls='-')\n",
    "plt.ylim(-2,2)\n",
    "\n",
    "plt.ylabel('(xGS-GS)/std(GS) [$N\\,\\sigma$]')\n",
    "title = 'Fattore Goal Subiti (' + str(giornate) + ' Giornate)'\n",
    "plt.title(title)\n",
    "\n",
    "plt.text(x=8.25, y=+0.5, s='Fortuna', verticalalignment='bottom', horizontalalignment='right', color='grey', rotation='90')\n",
    "plt.text(x=8.25, y=-0.5, s='Sfortuna', verticalalignment='top', horizontalalignment='right', color='grey', rotation='90')\n",
    "\n",
    "\n",
    "#plt.legend()\n",
    "\n",
    "plt.show()"
   ]
  },
  {
   "cell_type": "code",
   "execution_count": 20,
   "metadata": {},
   "outputs": [
    {
     "data": {
      "image/png": "[encoded data removed]",
      "text/plain": [
       "<Figure size 432x360 with 1 Axes>"
      ]
     },
     "metadata": {
      "needs_background": "light"
     },
     "output_type": "display_data"
    }
   ],
   "source": [
    "fig = plt.figure(figsize=(6,5))\n",
    "plt.grid(which='both', axis='y', ls='-', alpha=0.25)\n",
    "\n",
    "colors = get_team_colors()\n",
    "\n",
    "xlabels = Total['Team']\n",
    "plt.bar(np.arange(0,n_giocatori), Total['f_close_games'], color=colors, alpha=0.99, width=0.8, label='Punti guadagnati')\n",
    "\n",
    "plt.xticks(Total.index, xlabels, rotation=45, ha='right')\n",
    "plt.axhline(y=0, xmin=-100, xmax=100, color='grey', ls='-')\n",
    "ylim = np.max(np.abs(Total['f_close_games']))*1.3\n",
    "\n",
    "plt.ylabel('Punti guadagnati')\n",
    "title = 'Punti Guadagnati in close games (' + str(giornate) + ' Giornate)'\n",
    "plt.title(title)\n",
    "\n",
    "plt.text(x=8.25, y=+0.2, s='Fortuna', verticalalignment='bottom', horizontalalignment='right', color='grey', rotation='90')\n",
    "plt.text(x=8.25, y=-0.2, s='Sfortuna', verticalalignment='top', horizontalalignment='right', color='grey', rotation='90')\n",
    "\n",
    "\n",
    "#plt.legend()\n",
    "\n",
    "plt.show()"
   ]
  },
  {
   "cell_type": "code",
   "execution_count": 21,
   "metadata": {},
   "outputs": [
    {
     "data": {
      "image/png": "[encoded data removed]",
      "text/plain": [
       "<Figure size 576x360 with 2 Axes>"
      ]
     },
     "metadata": {},
     "output_type": "display_data"
    }
   ],
   "source": [
    "### Punti fatti vs classifica ###############\n",
    "fig = plt.figure(figsize=(8,5))\n",
    "\n",
    "colors = get_team_colors()\n",
    "x = Total['punti_fatti']\n",
    "y = Total['pti']\n",
    "\n",
    "plt.bar(np.arange(0,n_giocatori), x, color=colors, alpha=0.99, label='Expected Goal Subiti')\n",
    "plt.ylabel('Fantapunti')\n",
    "plt.ylim(np.min(x)-10, np.max(x)+10)\n",
    "xlabels = Total['Team']\n",
    "plt.xticks(Total.index, xlabels, rotation=45, ha='right')\n",
    "\n",
    "# secondary y axis\n",
    "ax2 = plt.twinx()\n",
    "ax2.set_ylabel('Fantapunti')\n",
    "ax2.tick_params(axis='y', colors='grey', length=0)\n",
    "ax2.yaxis.label.set_color('grey')\n",
    "ax2.plot([],[])\n",
    "\n",
    "plt.bar(np.arange(0,n_giocatori), y, color='black', alpha=0.5, width=0.35, label='GS')\n",
    "\n",
    "\n",
    "#plt.xticks(Total.index, xlabels, rotation=45, ha='right')\n",
    "plt.grid(which='both', axis='y', alpha=0.25)\n",
    "\n",
    "#plt.ylim(ymin = min(Total['GS']-1))\n",
    "plt.ylabel('Punti')\n",
    "title = 'Punti vs Fantapunti Fatti (' + str(giornate) + ' Giornate)'\n",
    "plt.title(title)\n",
    "\n",
    "#plt.legend()\n",
    "\n",
    "plt.show()"
   ]
  },
  {
   "cell_type": "code",
   "execution_count": 22,
   "metadata": {},
   "outputs": [
    {
     "data": {
      "image/png": "[encoded data removed]",
      "text/plain": [
       "<Figure size 432x360 with 1 Axes>"
      ]
     },
     "metadata": {
      "needs_background": "light"
     },
     "output_type": "display_data"
    }
   ],
   "source": [
    "fig = plt.figure(figsize=(6,5))\n",
    "plt.grid(which='both', axis='y', ls='-', alpha = 0.25)\n",
    "\n",
    "colors = get_team_colors()\n",
    "    \n",
    "std = pf_std*giornate\n",
    "med = pf_med*giornate\n",
    "\n",
    "plt.bar(np.arange(0,n_giocatori), (Total['punti_fatti']-med)/std, color=colors, alpha=0.99, width=0.8, label='')\n",
    "xlabels = Total['Team']\n",
    "plt.xticks(Total.index, xlabels, rotation=45, ha='right')\n",
    "plt.axhline(y=0, xmin=-100, xmax=100, color='grey', ls='-')\n",
    "#plt.ylim(-2,2)\n",
    "\n",
    "\n",
    "plt.ylabel('(fantapunti_fatti-median)/std [$N\\,\\sigma$]')\n",
    "title = 'Fantapunti Fatti (' + str(giornate) + ' Giornate)'\n",
    "plt.title(title)\n",
    "\n",
    "plt.show()"
   ]
  },
  {
   "cell_type": "markdown",
   "metadata": {},
   "source": [
    "# [>] Close games"
   ]
  },
  {
   "cell_type": "code",
   "execution_count": 23,
   "metadata": {},
   "outputs": [
    {
     "name": "stdout",
     "output_type": "stream",
     "text": [
      "\n",
      "### gianluca ###\n",
      "G 1 | punti fatti: 82.0  ( subiti: 77.5 ) | V ( 4 - 3 ) | guadagnati: 0.2\n",
      "G 2 | punti fatti: 63.5  ( subiti: 67.0 ) | S ( 0 - 1 ) | guadagnati: -0.3\n",
      "---> -0.1 punti guadagnati in 2 giornate\n",
      "\n",
      "### fabio ###\n",
      "---> 0.0 punti guadagnati in 0 giornate\n",
      "\n",
      "### enrico ###\n",
      "---> 0.0 punti guadagnati in 0 giornate\n",
      "\n",
      "### gabriele ###\n",
      "G 2 | punti fatti: 72  ( subiti: 74.5 ) | P ( 2 - 2 ) | guadagnati: 0.5\n",
      "---> 0.5 punti guadagnati in 1 giornate\n",
      "\n",
      "### luca ###\n",
      "G 1 | punti fatti: 77.5  ( subiti: 82 ) | S ( 3 - 4 ) | guadagnati: -0.1\n",
      "G 2 | punti fatti: 74.5  ( subiti: 72 ) | P ( 2 - 2 ) | guadagnati: -1.0\n",
      "---> -1.1 punti guadagnati in 2 giornate\n",
      "\n",
      "### ale ###\n",
      "G 2 | punti fatti: 67  ( subiti: 63.5 ) | V ( 1 - 0 ) | guadagnati: 0.6\n",
      "---> 0.6 punti guadagnati in 1 giornate\n"
     ]
    },
    {
     "data": {
      "text/plain": [
       "[-0.09999999999999987, 0, 0, 0.5, -1.1, 0.6000000000000001]"
      ]
     },
     "execution_count": 23,
     "metadata": {},
     "output_type": "execute_result"
    }
   ],
   "source": [
    "#### Expected punti per partite con differenza fantapunti <5 ######\n",
    "expected_punti(verbose=True)"
   ]
  },
  {
   "cell_type": "markdown",
   "metadata": {},
   "source": [
    "# <<<<< Indice Fortuna >>>>>"
   ]
  },
  {
   "cell_type": "code",
   "execution_count": 24,
   "metadata": {},
   "outputs": [],
   "source": [
    "def get_bigradient_colors():\n",
    "    colors = []\n",
    "    edgecolors = []\n",
    "    for key in Teams.keys():\n",
    "        x = Total[Total['Team']==key]['IndiceFortuna'].sum()\n",
    "        if Total[Total['Team']==key]['IndiceFortuna'].sum() >= 0:\n",
    "            x = (max_f - Total[Total['Team']==key]['IndiceFortuna'].sum())/max_f\n",
    "            s = (x,1,x)\n",
    "            colors.append(s)\n",
    "            edgecolors.append('g')\n",
    "            #edgecolors.append('limegreen')\n",
    "        else: \n",
    "            x = -(Total[Total['Team']==key]['IndiceFortuna'].sum() - min_f)/min_f\n",
    "            s=(1,x,x)\n",
    "            colors.append(s)\n",
    "            #edgecolors.append('orangered')\n",
    "            edgecolors.append('r')\n",
    "    return colors, edgecolors\n",
    "\n",
    "# Take negative and positive data apart and cumulate\n",
    "def get_cumulated_array(data, **kwargs):\n",
    "    cum = data.clip(**kwargs)\n",
    "    cum = np.cumsum(cum, axis=0)\n",
    "    d = np.zeros(np.shape(data))\n",
    "    d[1:] = cum[:-1]\n",
    "    return d \n",
    "\n",
    "\n",
    "tot_giornate = 28\n",
    "\n",
    "keys = ('f_close_games', 'f_media_giornata', 'f_media_personale')\n",
    "#scaling = (0.5, 1, 1, 0.5, 0.25*tot_giornate/giornate, 0.25*tot_giornate/giornate, 0)\n",
    "scaling = (1, 1, 1)\n",
    "\n",
    "cols = ['dodgerblue', 'purple', 'r']\n",
    "\n",
    "def calc_fortuna(df):\n",
    "    factors = []\n",
    "    df['IndiceFortuna'] = [0,0,0,0,0,0]\n",
    "    ### build fortuna\n",
    "    for col,scale in zip(keys,scaling):\n",
    "        factors.append(df[col]*scale)\n",
    "        df['IndiceFortuna'] = df['IndiceFortuna'] + df[col]*scale\n",
    "    #print(len(factors))\n",
    "    return df, factors\n",
    "\n",
    "\n",
    "    \n"
   ]
  },
  {
   "cell_type": "code",
   "execution_count": 25,
   "metadata": {
    "scrolled": false
   },
   "outputs": [
    {
     "data": {
      "image/png": "[encoded data removed]",
      "text/plain": [
       "<Figure size 576x360 with 1 Axes>"
      ]
     },
     "metadata": {
      "needs_background": "light"
     },
     "output_type": "display_data"
    }
   ],
   "source": [
    "#--- Fortuna Total\n",
    "Total, __factors__ = calc_fortuna(Total)\n",
    "matchday = giornate\n",
    "data_per_round = make_Total_df(giornate = matchday)\n",
    "__df__, __factors__ = calc_fortuna(data_per_round)\n",
    "\n",
    "\n",
    "\n",
    "# re-shape data for positive-negative bar plot\n",
    "__data__ = np.array(__factors__)\n",
    "#print(__data__)\n",
    "data_shape = np.shape(__data__)\n",
    "#print(data_shape)\n",
    "cumulated_data = get_cumulated_array(__data__, min=0)\n",
    "cumulated_data_neg = get_cumulated_array(__data__, max=0)\n",
    "# Re-merge negative and positive data.\n",
    "row_mask = (__data__<0)\n",
    "cumulated_data[row_mask] = cumulated_data_neg[row_mask]\n",
    "data_stack = cumulated_data\n",
    "#print(np.shape(data_stack))\n",
    "\n",
    "\n",
    "\n",
    "fig = plt.figure(figsize=(8,5))\n",
    "plt.grid(which='major', axis='y', ls='-', alpha=0.25)\n",
    "xlabels = __df__['Team']\n",
    "plt.xticks(__df__.index, xlabels, rotation=45, ha='right')\n",
    "plt.axhline(y=0, xmin=-100, xmax=100, color='grey', ls='-')\n",
    "\n",
    "max_f = max(__df__['IndiceFortuna'])\n",
    "min_f = min(__df__['IndiceFortuna'])\n",
    "colors, edgecolors = get_bigradient_colors()\n",
    "plt.bar(np.arange(0,n_giocatori), __df__['IndiceFortuna'], color='black', edgecolor=edgecolors, lw=0, alpha=0.15, width=0.9, label='')\n",
    "\n",
    "#print(np.arange(0, data_shape[0]))\n",
    "\n",
    "for i in np.arange(0, data_shape[0]):\n",
    "    plt.bar(np.arange(data_shape[1]), __data__[i], bottom=data_stack[i], color=cols[i],alpha=0.99, width=0.5, label=keys[i])\n",
    "    \n",
    "plt.legend()\n",
    "\n",
    "for i, f in enumerate(list(np.round(__df__['IndiceFortuna'],decimals=1))):\n",
    "    if f<0: \n",
    "        va = 'top'\n",
    "        offset = -0.7\n",
    "    else: \n",
    "        va = 'bottom'\n",
    "        offset = 0.7\n",
    "    plt.annotate(f, (i, f+offset), horizontalalignment='center', verticalalignment=va)\n",
    "    \n",
    "plt.ylim(min_f-2, max_f+2)\n",
    "\n",
    "plt.ylabel('Indice Fortuna')\n",
    "title = 'C Factor (' + str(matchday) + '° Giornata)'\n",
    "plt.title(title)\n",
    "plt.legend(bbox_to_anchor=(1.05, 1), loc=2, borderaxespad=0.)\n",
    "plt.show()\n",
    "\n",
    "\n",
    "\n",
    "#Total.head(10)"
   ]
  },
  {
   "cell_type": "code",
   "execution_count": 26,
   "metadata": {},
   "outputs": [
    {
     "name": "stderr",
     "output_type": "stream",
     "text": [
      "C:\\Users\\Luca\\Anaconda3\\lib\\site-packages\\matplotlib\\font_manager.py:1241: UserWarning: findfont: Font family ['sans-serif'] not found. Falling back to DejaVu Sans.\n",
      "  (prop.get_family(), self.defaultFamily[fontext]))\n"
     ]
    },
    {
     "data": {
      "image/png": "[encoded data removed]",
      "text/plain": [
       "<Figure size 432x360 with 1 Axes>"
      ]
     },
     "metadata": {
      "needs_background": "light"
     },
     "output_type": "display_data"
    }
   ],
   "source": [
    "fig = plt.figure(figsize=(6,5))\n",
    "plt.grid(which='major', axis='y', ls='-', alpha=0.25)\n",
    "xlabels = Total['Team']\n",
    "plt.xticks(Total.index, xlabels, rotation=45, ha='right')\n",
    "plt.axhline(y=0, xmin=-100, xmax=100, color='grey', ls='-')\n",
    "\n",
    "max_f = max(Total['IndiceFortuna'])\n",
    "min_f = min(Total['IndiceFortuna'])\n",
    "colors = get_team_colors()\n",
    "plt.bar(np.arange(0,n_giocatori), Total['IndiceFortuna'], color=colors, lw=0, alpha=0.99, width=0.8, label='')\n",
    "\n",
    "for i, f in enumerate(list(np.round(Total['IndiceFortuna'],decimals=1))):\n",
    "    if f<0: \n",
    "        va = 'top'\n",
    "        offset = -0.2\n",
    "    else: \n",
    "        va = 'bottom'\n",
    "        offset = 0.2\n",
    "    plt.annotate(f, (i, f+offset), horizontalalignment='center', verticalalignment=va, weight='bold')\n",
    "    \n",
    "plt.ylim(min_f-1, max_f+1)\n",
    "plt.ylabel('Indice Fortuna')\n",
    "title = 'C Factor (' + str(giornate) + ' Giornate)'\n",
    "plt.title(title)\n",
    "plt.show()"
   ]
  },
  {
   "cell_type": "code",
   "execution_count": 27,
   "metadata": {},
   "outputs": [
    {
     "name": "stdout",
     "output_type": "stream",
     "text": [
      "... Filling Total df per round ...\n"
     ]
    }
   ],
   "source": [
    "#--- build partial Total entries\n",
    "print('... Filling Total df per round ...')\n",
    "Tot_per_round = []\n",
    "for gg in Results[list(Teams.keys())[0]].index:\n",
    "    data_per_round = make_Total_df(giornate = gg)\n",
    "    #print(data_per_round.dtypes)\n",
    "    __df__, __factors__ = calc_fortuna(data_per_round)\n",
    "    Tot_per_round.append(__df__)"
   ]
  },
  {
   "cell_type": "code",
   "execution_count": 28,
   "metadata": {},
   "outputs": [
    {
     "data": {
      "image/png": "[encoded data removed]",
      "text/plain": [
       "<Figure size 86.4x432 with 1 Axes>"
      ]
     },
     "metadata": {
      "needs_background": "light"
     },
     "output_type": "display_data"
    }
   ],
   "source": [
    "def fortuna_evo(title='Indice Fortuna Evolution', ylabel='Indice Fortuna'):\n",
    "\n",
    "    giornate = Results[list(Teams.keys())[0]].index\n",
    "    gg = max(giornate)\n",
    "    fig = plt.figure(figsize=(gg*0.6,6))\n",
    "\n",
    "    data = []\n",
    "    for team in Teams.keys():\n",
    "        dd = pd.DataFrame()\n",
    "        score = 0\n",
    "        scores = []\n",
    "        for df in Tot_per_round:\n",
    "            _ = df[df['Team'] == team]\n",
    "            score = _['IndiceFortuna'].sum()\n",
    "            #print(team, score)\n",
    "            scores.append(score)\n",
    "        dd['score'] = scores\n",
    "        dd['Team'] = team\n",
    "        data.append(dd)\n",
    "\n",
    "    data = sorted(data,key=lambda x:x.at[gg-1,'score'].min(axis=0), reverse=True)\n",
    "\n",
    "    for df in data:\n",
    "        team = df['Team'].unique()[0]\n",
    "        color = Teams[team][1]\n",
    "        score = df.at[gg-1, 'score']\n",
    "        score_prev = df.at[gg-2, 'score']\n",
    "        diff = score - score_prev\n",
    "        if diff > 0: sign='+'\n",
    "        else: sign=''\n",
    "        label = '%.3f (%s%.3f) | %s' % (score, sign, diff, team)\n",
    "        p = plt.plot(giornate, df['score'], color=color, ls='-', lw=2, label=label)\n",
    "\n",
    "    plt.xticks(np.arange(1,gg+1))\n",
    "    plt.grid(axis='x', linestyle='-', linewidth=5, alpha=0.2)\n",
    "    plt.grid(axis='y', alpha=0.2)\n",
    "    plt.axhline(0, color='grey')\n",
    "    plt.xlabel('Giornata')\n",
    "    plt.ylabel(ylabel)\n",
    "    plt.title(title)\n",
    "\n",
    "    plt.legend(bbox_to_anchor=(1.05, 1), loc=2, borderaxespad=0.)\n",
    "    plt.show()\n",
    "    \n",
    "fortuna_evo()"
   ]
  },
  {
   "cell_type": "code",
   "execution_count": 29,
   "metadata": {},
   "outputs": [
    {
     "data": {
      "text/plain": [
       "Index(['punti_fatti', 'punti_subiti', 'goal_subiti_por', 'cartellini',\n",
       "       'mod_difesa', 'GF', 'GS', 'esito', 'pti', 'Team', 'f_close_games',\n",
       "       'f_media_giornata', 'f_media_personale', 'pos', 'rank', 'distacco',\n",
       "       'f_pos', 'f_distacco', 'x_punti_subiti', 'x_GS', 'f_GS',\n",
       "       'IndiceFortuna'],\n",
       "      dtype='object')"
      ]
     },
     "execution_count": 29,
     "metadata": {},
     "output_type": "execute_result"
    }
   ],
   "source": [
    "Tot_per_round[1].keys()"
   ]
  },
  {
   "cell_type": "markdown",
   "metadata": {},
   "source": [
    "# [>] Premi Ignobel"
   ]
  },
  {
   "cell_type": "code",
   "execution_count": 30,
   "metadata": {
    "scrolled": false
   },
   "outputs": [],
   "source": [
    " def premio_plot(par = 'goal_subiti_por', threshold=2, title='Premio Porta Violata \"Mario Bruno\"', ylabel='Goal subiti dal portiere'):\n",
    "    giornate = Results[list(Teams.keys())[0]].index\n",
    "    gg = max(giornate)\n",
    "    fig = plt.figure(figsize=(gg*0.6,6))\n",
    "\n",
    "    data = []\n",
    "    for team, df in Results.items():\n",
    "        df['cumsum'] = np.cumsum(df[par])\n",
    "        score = max(df['cumsum'])\n",
    "        df['score'] = score\n",
    "        \n",
    "        df_prev = df.drop(df.tail(1).index)         \n",
    "        df_prev['cumsum_prev'] = np.cumsum(df_prev[par])\n",
    "        score_prev = max(df_prev['cumsum'])\n",
    "        df['score_prev'] = score_prev\n",
    "        \n",
    "        data.append(df)\n",
    "    data = sorted(data,key=lambda x:x['score'].unique().min(axis=0), reverse=True)\n",
    "\n",
    "    for df in data:\n",
    "        team = df['Team'].unique()[0]\n",
    "        color = Teams[team][1]\n",
    "        df['cumsum'] = np.cumsum(df[par])\n",
    "        score = max(df['cumsum'])\n",
    "        score_prev = max(df['score_prev'])\n",
    "        diff = score - score_prev\n",
    "        p = plt.plot(giornate, df['cumsum'], color=color, ls='-', lw=2, label=str(score)+' (+'+str(diff)+') | '+str(team))\n",
    "        #col = p[0].get_color()\n",
    "\n",
    "        gior = df[df[par]>threshold].index\n",
    "        dd = df[df.index.isin(gior)]\n",
    "        marks = dd['cumsum']\n",
    "\n",
    "        #cs = np.cumsum(dd[par])\n",
    "        plt.scatter(gior, marks, edgecolor=color, facecolor=color, s=300+20*dd[par], label='')\n",
    "        for x,y,text in zip(gior,marks,dd[par]):\n",
    "            plt.text(x, y,text, horizontalalignment='center', verticalalignment='center', color='white')\n",
    "\n",
    "    plt.xticks(np.arange(0,gg+1))\n",
    "    plt.grid(axis='x', linestyle='-', linewidth=5, alpha=0.2)\n",
    "    plt.xlabel('Giornata')\n",
    "    plt.ylabel(ylabel)\n",
    "    plt.title(title, fontsize=20)\n",
    "\n",
    "    plt.legend()\n",
    "    plt.show()"
   ]
  },
  {
   "cell_type": "code",
   "execution_count": 31,
   "metadata": {},
   "outputs": [
    {
     "name": "stderr",
     "output_type": "stream",
     "text": [
      "C:\\Users\\Luca\\Anaconda3\\lib\\site-packages\\matplotlib\\font_manager.py:1241: UserWarning: findfont: Font family ['sans-serif'] not found. Falling back to DejaVu Sans.\n",
      "  (prop.get_family(), self.defaultFamily[fontext]))\n"
     ]
    },
    {
     "data": {
      "image/png": "[encoded data removed]",
      "text/plain": [
       "<Figure size 86.4x432 with 1 Axes>"
      ]
     },
     "metadata": {
      "needs_background": "light"
     },
     "output_type": "display_data"
    }
   ],
   "source": [
    "premio_plot(par='goal_subiti_por', title='Premio Porta Violata', ylabel='Goal Subiti dal Portiere')"
   ]
  },
  {
   "cell_type": "code",
   "execution_count": 32,
   "metadata": {
    "scrolled": false
   },
   "outputs": [
    {
     "data": {
      "image/png": "[encoded data removed]",
      "text/plain": [
       "<Figure size 86.4x432 with 1 Axes>"
      ]
     },
     "metadata": {
      "needs_background": "light"
     },
     "output_type": "display_data"
    }
   ],
   "source": [
    "premio_plot(par='cartellini', threshold=3, title='Premio Cartellino Facile', ylabel='Cartellini') "
   ]
  },
  {
   "cell_type": "code",
   "execution_count": 33,
   "metadata": {},
   "outputs": [
    {
     "data": {
      "image/png": "[encoded data removed]",
      "text/plain": [
       "<Figure size 86.4x432 with 1 Axes>"
      ]
     },
     "metadata": {
      "needs_background": "light"
     },
     "output_type": "display_data"
    }
   ],
   "source": [
    "premio_plot(par='mod_difesa', threshold=2, title='Premio Catenaccio', ylabel='Modificatore Difesa') "
   ]
  },
  {
   "cell_type": "markdown",
   "metadata": {},
   "source": [
    "# [>] Box plots"
   ]
  },
  {
   "cell_type": "code",
   "execution_count": 34,
   "metadata": {},
   "outputs": [],
   "source": [
    "###--- Melt dataframe with variables of interest ######################\n",
    "def melt_df(variables = ['punti_subiti', 'punti_fatti']):\n",
    "    data = []\n",
    "    for team, df in Results.items():\n",
    "        dd = pd.DataFrame()\n",
    "        dd['Team'] = df['Team']\n",
    "        for key in variables:\n",
    "            dd[key] = df[key]\n",
    "        data.append(dd)\n",
    "    cdf = pd.concat(data)    \n",
    "    mdf = pd.melt(cdf, id_vars=['Team'], var_name=['Variable'])\n",
    "    return mdf"
   ]
  },
  {
   "cell_type": "code",
   "execution_count": 35,
   "metadata": {},
   "outputs": [
    {
     "data": {
      "image/png": "[encoded data removed]",
      "text/plain": [
       "<Figure size 432x288 with 2 Axes>"
      ]
     },
     "metadata": {},
     "output_type": "display_data"
    }
   ],
   "source": [
    "### Box plot ##############################\n",
    "data = melt_df(['punti_fatti'])\n",
    "\n",
    "# box plot\n",
    "ax = sns.boxplot(x=\"Team\", y=\"value\", hue=\"Variable\", data=data, color='cyan', whis=1.5, width=0.5)    \n",
    "# draw single datapoints\n",
    "ax = sns.swarmplot(x=\"Team\", y=\"value\", hue=\"Variable\", data=data, palette=\"Blues\")    \n",
    "\n",
    "ax.set_xticklabels(ax.get_xticklabels(), rotation=45, ha='right')\n",
    "#ax.set_ylim(-2,16)\n",
    "ax.grid(axis='x', linestyle='-', linewidth=5, alpha=0.2)\n",
    "ax.hlines(goal_marks, -1000,1000, 'grey','-', linewidth=1, alpha=0.5)\n",
    "ax.hlines(ps_med,-100,100, colors='red', linewidth=1, linestyles='--', alpha=0.5, label='Median')\n",
    "\n",
    "\n",
    "ax.set_ylabel('Fanta Punti')\n",
    "ax.set_xlabel('')\n",
    "ax.legend()\n",
    "\n",
    "# secondary y axis\n",
    "ax2 = ax.twinx()\n",
    "goal = lambda fp: (fp-66)/step + 0.5 \n",
    "ymin, ymax = ax.get_ylim()\n",
    "ax2.set_ylim((goal(ymin),goal(ymax)))\n",
    "ax2.set_yticks([0,1,2,3,4,5,6,7,8])\n",
    "ax2.set_ylabel('Goal')\n",
    "ax2.tick_params(axis='y', colors='grey', length=0)\n",
    "ax2.yaxis.label.set_color('grey')\n",
    "ax2.plot([],[])\n",
    "\n",
    "plt.show()"
   ]
  },
  {
   "cell_type": "code",
   "execution_count": 36,
   "metadata": {},
   "outputs": [
    {
     "data": {
      "image/png": "[encoded data removed]",
      "text/plain": [
       "<Figure size 432x288 with 2 Axes>"
      ]
     },
     "metadata": {},
     "output_type": "display_data"
    }
   ],
   "source": [
    "### Box plot ##############################\n",
    "data = melt_df(['punti_subiti'])\n",
    "\n",
    "# box plot\n",
    "ax = sns.boxplot(x=\"Team\", y=\"value\", hue=\"Variable\", data=data, color='r', whis=1.5, width=0.5)    \n",
    "# draw single datapoints\n",
    "ax = sns.swarmplot(x=\"Team\", y=\"value\", hue=\"Variable\", data=data, palette=\"Reds\")    \n",
    "\n",
    "ax.set_xticklabels(ax.get_xticklabels(), rotation=45, ha='right')\n",
    "#ax.set_ylim(-2,16)\n",
    "ax.grid(axis='x', linestyle='-', linewidth=5, alpha=0.2)\n",
    "ax.hlines(goal_marks, -1000,1000, 'grey','-', linewidth=1, alpha=0.5)\n",
    "ax.hlines(ps_med,-100,100, colors='purple', linewidth=1, linestyles='--', alpha=0.5, label='Median')\n",
    "\n",
    "\n",
    "ax.set_ylabel('Fanta Punti')\n",
    "ax.set_xlabel('')\n",
    "ax.legend()\n",
    "\n",
    "# secondary y axis\n",
    "ax2 = ax.twinx()\n",
    "goal = lambda fp: (fp-66)/step + 0.5 \n",
    "ymin, ymax = ax.get_ylim()\n",
    "ax2.set_ylim((goal(ymin),goal(ymax)))\n",
    "ax2.set_yticks([0,1,2,3,4,5,6,7,8])\n",
    "ax2.set_ylabel('Goal')\n",
    "ax2.tick_params(axis='y', colors='grey', length=0)\n",
    "ax2.yaxis.label.set_color('grey')\n",
    "ax2.plot([],[])\n",
    "\n",
    "plt.show()"
   ]
  },
  {
   "cell_type": "markdown",
   "metadata": {},
   "source": [
    "# [>] Scores sotto la media"
   ]
  },
  {
   "cell_type": "code",
   "execution_count": 37,
   "metadata": {},
   "outputs": [],
   "source": [
    "def print_low_scoring_results():\n",
    "    for team, df in Results.items():\n",
    "        print('\\n###', team, '###')\n",
    "        pti=0\n",
    "        g = 0\n",
    "        for gg in df.index:     \n",
    "            if ((df['punti_fatti'][gg]<pf_med) & (df['punti_fatti'][gg]>=low_score)):\n",
    "                res = esito(df.GF[gg], df.GS[gg])\n",
    "                print('G', gg, ':', df.punti_fatti[gg], '|', res, '(', df.GF[gg], '-', df.GS[gg], ')')\n",
    "                pti = pti+punti(res)\n",
    "                g = g+1\n",
    "        print('--->', pti, 'punti in', g, 'giornate ( media:', pti/g,')')\n",
    "        \n",
    "        \n",
    "def print_very_low_scoring_results():\n",
    "    for team, df in Results.items():\n",
    "        print('\\n###', team, '###')\n",
    "        pti=0\n",
    "        g = 0\n",
    "        for gg in df.index:     \n",
    "            if df['punti_fatti'][gg]<low_score:\n",
    "                res = esito(df.GF[gg], df.GS[gg])\n",
    "                print('G', gg, ':', df.punti_fatti[gg], '|', res, '(', df.GF[gg], '-', df.GS[gg], ')')\n",
    "                pti = pti+punti(res)\n",
    "                g = g+1\n",
    "        try:\n",
    "            print('--->', pti, 'punti in', g, 'giornate ( media:', pti/g,')')\n",
    "        except:\n",
    "            print('No games <', low_score, '  fantapunti found')"
   ]
  },
  {
   "cell_type": "code",
   "execution_count": 38,
   "metadata": {},
   "outputs": [
    {
     "name": "stdout",
     "output_type": "stream",
     "text": [
      "\n",
      "### gianluca ###\n",
      "G 2 : 63.5 | S ( 0 - 1 )\n",
      "---> 0 punti in 1 giornate ( media: 0.0 )\n",
      "\n",
      "### fabio ###\n",
      "G 2 : 67.5 | V ( 2 - 0 )\n",
      "---> 3 punti in 1 giornate ( media: 3.0 )\n",
      "\n",
      "### enrico ###\n"
     ]
    },
    {
     "ename": "ZeroDivisionError",
     "evalue": "division by zero",
     "output_type": "error",
     "traceback": [
      "\u001b[1;31m---------------------------------------------------------------------------\u001b[0m",
      "\u001b[1;31mZeroDivisionError\u001b[0m                         Traceback (most recent call last)",
      "\u001b[1;32m<ipython-input-38-77d5422107bd>\u001b[0m in \u001b[0;36m<module>\u001b[1;34m\u001b[0m\n\u001b[1;32m----> 1\u001b[1;33m \u001b[0mprint_low_scoring_results\u001b[0m\u001b[1;33m(\u001b[0m\u001b[1;33m)\u001b[0m\u001b[1;33m\u001b[0m\u001b[1;33m\u001b[0m\u001b[0m\n\u001b[0m",
      "\u001b[1;32m<ipython-input-37-616f54f680d1>\u001b[0m in \u001b[0;36mprint_low_scoring_results\u001b[1;34m()\u001b[0m\n\u001b[0;32m     10\u001b[0m                 \u001b[0mpti\u001b[0m \u001b[1;33m=\u001b[0m \u001b[0mpti\u001b[0m\u001b[1;33m+\u001b[0m\u001b[0mpunti\u001b[0m\u001b[1;33m(\u001b[0m\u001b[0mres\u001b[0m\u001b[1;33m)\u001b[0m\u001b[1;33m\u001b[0m\u001b[1;33m\u001b[0m\u001b[0m\n\u001b[0;32m     11\u001b[0m                 \u001b[0mg\u001b[0m \u001b[1;33m=\u001b[0m \u001b[0mg\u001b[0m\u001b[1;33m+\u001b[0m\u001b[1;36m1\u001b[0m\u001b[1;33m\u001b[0m\u001b[1;33m\u001b[0m\u001b[0m\n\u001b[1;32m---> 12\u001b[1;33m         \u001b[0mprint\u001b[0m\u001b[1;33m(\u001b[0m\u001b[1;34m'--->'\u001b[0m\u001b[1;33m,\u001b[0m \u001b[0mpti\u001b[0m\u001b[1;33m,\u001b[0m \u001b[1;34m'punti in'\u001b[0m\u001b[1;33m,\u001b[0m \u001b[0mg\u001b[0m\u001b[1;33m,\u001b[0m \u001b[1;34m'giornate ( media:'\u001b[0m\u001b[1;33m,\u001b[0m \u001b[0mpti\u001b[0m\u001b[1;33m/\u001b[0m\u001b[0mg\u001b[0m\u001b[1;33m,\u001b[0m\u001b[1;34m')'\u001b[0m\u001b[1;33m)\u001b[0m\u001b[1;33m\u001b[0m\u001b[1;33m\u001b[0m\u001b[0m\n\u001b[0m\u001b[0;32m     13\u001b[0m \u001b[1;33m\u001b[0m\u001b[0m\n\u001b[0;32m     14\u001b[0m \u001b[1;33m\u001b[0m\u001b[0m\n",
      "\u001b[1;31mZeroDivisionError\u001b[0m: division by zero"
     ]
    }
   ],
   "source": [
    "print_low_scoring_results()"
   ]
  },
  {
   "cell_type": "code",
   "execution_count": 39,
   "metadata": {},
   "outputs": [
    {
     "name": "stdout",
     "output_type": "stream",
     "text": [
      "\n",
      "### gianluca ###\n",
      "No games < 62   fantapunti found\n",
      "\n",
      "### fabio ###\n",
      "No games < 62   fantapunti found\n",
      "\n",
      "### enrico ###\n",
      "G 2 : 57.5 | S ( 0 - 2 )\n",
      "---> 0 punti in 1 giornate ( media: 0.0 )\n",
      "\n",
      "### gabriele ###\n",
      "No games < 62   fantapunti found\n",
      "\n",
      "### luca ###\n",
      "No games < 62   fantapunti found\n",
      "\n",
      "### ale ###\n",
      "G 1 : 61 | S ( 0 - 3 )\n",
      "---> 0 punti in 1 giornate ( media: 0.0 )\n"
     ]
    }
   ],
   "source": [
    "print_very_low_scoring_results()"
   ]
  },
  {
   "cell_type": "code",
   "execution_count": 40,
   "metadata": {},
   "outputs": [],
   "source": [
    "def print_1GF_results():\n",
    "    for team, df in Results.items():\n",
    "        print('\\n###', team, '###')\n",
    "        pti=0\n",
    "        g = 0\n",
    "        for gg in df.index:     \n",
    "            if df['GF'][gg] == 1:\n",
    "                res = esito(df.GF[gg], df.GS[gg])\n",
    "                print('G', gg, ':', df.punti_fatti[gg], '|', res, '(', df.GF[gg], '-', df.GS[gg], ')')\n",
    "                pti = pti+punti(res)\n",
    "                g = g+1\n",
    "        try:\n",
    "            print('--->', pti, 'punti in', g, 'giornate ( media:', pti/g,')')\n",
    "        except: \n",
    "            print('No games found with GF=1')"
   ]
  },
  {
   "cell_type": "code",
   "execution_count": 41,
   "metadata": {},
   "outputs": [
    {
     "name": "stdout",
     "output_type": "stream",
     "text": [
      "\n",
      "### gianluca ###\n",
      "No games found with GF=1\n",
      "\n",
      "### fabio ###\n",
      "No games found with GF=1\n",
      "\n",
      "### enrico ###\n",
      "No games found with GF=1\n",
      "\n",
      "### gabriele ###\n",
      "No games found with GF=1\n",
      "\n",
      "### luca ###\n",
      "No games found with GF=1\n",
      "\n",
      "### ale ###\n",
      "G 2 : 67 | V ( 1 - 0 )\n",
      "---> 3 punti in 1 giornate ( media: 3.0 )\n"
     ]
    }
   ],
   "source": [
    "print_1GF_results()"
   ]
  },
  {
   "cell_type": "markdown",
   "metadata": {},
   "source": [
    "# [>] Andamento punti fatti/subiti"
   ]
  },
  {
   "cell_type": "code",
   "execution_count": 42,
   "metadata": {
    "scrolled": true
   },
   "outputs": [
    {
     "name": "stderr",
     "output_type": "stream",
     "text": [
      "C:\\Users\\Luca\\Anaconda3\\lib\\site-packages\\matplotlib\\font_manager.py:1241: UserWarning: findfont: Font family ['sans-serif'] not found. Falling back to DejaVu Sans.\n",
      "  (prop.get_family(), self.defaultFamily[fontext]))\n"
     ]
    },
    {
     "data": {
      "image/png": "[encoded data removed]",
      "text/plain": [
       "<Figure size 72x288 with 2 Axes>"
      ]
     },
     "metadata": {},
     "output_type": "display_data"
    },
    {
     "data": {
      "image/png": "[encoded data removed]",
      "text/plain": [
       "<Figure size 72x288 with 2 Axes>"
      ]
     },
     "metadata": {},
     "output_type": "display_data"
    },
    {
     "data": {
      "image/png": "[encoded data removed]",
      "text/plain": [
       "<Figure size 72x288 with 2 Axes>"
      ]
     },
     "metadata": {},
     "output_type": "display_data"
    },
    {
     "data": {
      "image/png": "[encoded data removed]",
      "text/plain": [
       "<Figure size 72x288 with 2 Axes>"
      ]
     },
     "metadata": {},
     "output_type": "display_data"
    },
    {
     "data": {
      "image/png": "[encoded data removed]",
      "text/plain": [
       "<Figure size 72x288 with 2 Axes>"
      ]
     },
     "metadata": {},
     "output_type": "display_data"
    },
    {
     "data": {
      "image/png": "[encoded data removed]",
      "text/plain": [
       "<Figure size 72x288 with 2 Axes>"
      ]
     },
     "metadata": {},
     "output_type": "display_data"
    }
   ],
   "source": [
    "### Andamento per squadra ######################################################\n",
    "for team in Results.keys(): \n",
    "    data = Results[team]\n",
    "    gg = max(data.index)\n",
    "    \n",
    "    fig = plt.figure(figsize=(gg*0.5,4))\n",
    "\n",
    "    plt.hlines(goal_marks, -1000,1000, 'grey','-', linewidth=1, alpha=0.5)\n",
    "    #plt.axhspan(pf_med-2*pf_std, pf_med+2*pf_std, 0, 40, color='blue', alpha=0.05, label='$2\\sigma$')\n",
    "    #plt.axhspan(pf_med-1*pf_std, pf_med+1*pf_std, 0, 40, color='blue', alpha=0.1, label='$1\\sigma$')\n",
    "    plt.hlines(pf_med,0,40, colors='blue', linewidth=2, linestyles='--', alpha=0.5, label='Median')\n",
    "\n",
    "    #ax = plt.scatter(data.index, data['punti_subiti'], c='blue', s=data['punti_subiti'], alpha=0.1)\n",
    "    data = Results[team][Results[team].esito=='S']\n",
    "    ax = plt.scatter(data.index, data['punti_fatti'], c='black', edgecolor='r', linewidth=2, s=data['punti_fatti']*2, label='')\n",
    "    ax = plt.scatter(data.index, data['punti_subiti'], c='black', edgecolor='none', s=data['punti_subiti']*2, alpha=0.25, label='')\n",
    "    data = Results[team][Results[team].esito=='P']\n",
    "    ax = plt.scatter(data.index, data['punti_fatti'], c='black', edgecolor='grey', linewidth=2, s=data['punti_fatti']*2, label='')\n",
    "    ax = plt.scatter(data.index, data['punti_subiti'], c='black', edgecolor='none', s=data['punti_subiti']*2, alpha=0.25, label='')\n",
    "    data = Results[team][Results[team].esito=='V']\n",
    "    ax = plt.scatter(data.index, data['punti_fatti'], c='black', edgecolor='g', linewidth=2, s=data['punti_fatti']*2, label='')\n",
    "    ax = plt.scatter(data.index, data['punti_subiti'], c='black', edgecolor='none', s=data['punti_subiti']*2, alpha=0.25, label='')\n",
    "\n",
    "    plt.xlabel('Giornata')\n",
    "    plt.ylabel('Fanta Punti')\n",
    "    plt.text(10,53,team, horizontalalignment='right', fontweight='1000')\n",
    "\n",
    "    giornata=gg+1\n",
    "    ymin = 45\n",
    "    ymax = 100\n",
    "    plt.xlim(0,giornata)\n",
    "    plt.ylim(ymin, ymax)\n",
    "    plt.xticks(np.arange(0,giornata))\n",
    "    plt.grid(axis='x', linestyle='-', linewidth=5, alpha=0.2)\n",
    "    #plt.minorticks_on()\n",
    "    \n",
    "    # secondary y axis\n",
    "    ax2 = plt.twinx()\n",
    "    goal = lambda fp: (fp-66)/4 + 0.5 \n",
    "    #ymin, ymax = plt.axes.get_ylim()\n",
    "    ax2.set_ylim((goal(ymin),goal(ymax)))\n",
    "    ax2.set_yticks([0,1,2,3,4,5,6,7])\n",
    "    ax2.set_ylabel('Goal')\n",
    "    ax2.tick_params(axis='y', colors='grey', length=0)\n",
    "    ax2.yaxis.label.set_color('grey')\n",
    "    ax2.plot([],[])\n",
    "  \n",
    "    plt.show()"
   ]
  },
  {
   "cell_type": "code",
   "execution_count": 43,
   "metadata": {
    "scrolled": false
   },
   "outputs": [
    {
     "data": {
      "text/plain": [
       "Index(['punti_fatti', 'punti_subiti', 'goal_subiti_por', 'cartellini',\n",
       "       'mod_difesa', 'GF', 'GS', 'esito', 'pti', 'Team', 'f_close_games',\n",
       "       'f_media_giornata', 'f_media_personale', 'pos', 'rank', 'distacco',\n",
       "       'f_pos', 'f_distacco', 'x_punti_subiti', 'x_GS', 'f_GS',\n",
       "       'IndiceFortuna'],\n",
       "      dtype='object')"
      ]
     },
     "execution_count": 43,
     "metadata": {},
     "output_type": "execute_result"
    }
   ],
   "source": [
    "Tot_per_round[0].keys()"
   ]
  },
  {
   "cell_type": "code",
   "execution_count": 44,
   "metadata": {},
   "outputs": [
    {
     "data": {
      "text/html": [
       "<div>\n",
       "<style scoped>\n",
       "    .dataframe tbody tr th:only-of-type {\n",
       "        vertical-align: middle;\n",
       "    }\n",
       "\n",
       "    .dataframe tbody tr th {\n",
       "        vertical-align: top;\n",
       "    }\n",
       "\n",
       "    .dataframe thead th {\n",
       "        text-align: right;\n",
       "    }\n",
       "</style>\n",
       "<table border=\"1\" class=\"dataframe\">\n",
       "  <thead>\n",
       "    <tr style=\"text-align: right;\">\n",
       "      <th></th>\n",
       "      <th>punti_fatti</th>\n",
       "      <th>punti_subiti</th>\n",
       "      <th>goal_subiti_por</th>\n",
       "      <th>cartellini</th>\n",
       "      <th>mod_difesa</th>\n",
       "      <th>GF</th>\n",
       "      <th>GS</th>\n",
       "      <th>esito</th>\n",
       "      <th>pti</th>\n",
       "      <th>Team</th>\n",
       "      <th>...</th>\n",
       "      <th>f_media_personale</th>\n",
       "      <th>pos</th>\n",
       "      <th>rank</th>\n",
       "      <th>distacco</th>\n",
       "      <th>f_pos</th>\n",
       "      <th>f_distacco</th>\n",
       "      <th>x_punti_subiti</th>\n",
       "      <th>x_GS</th>\n",
       "      <th>f_GS</th>\n",
       "      <th>IndiceFortuna</th>\n",
       "    </tr>\n",
       "  </thead>\n",
       "  <tbody>\n",
       "    <tr>\n",
       "      <th>0</th>\n",
       "      <td>82.0</td>\n",
       "      <td>77.5</td>\n",
       "      <td>1</td>\n",
       "      <td>1</td>\n",
       "      <td>1</td>\n",
       "      <td>4</td>\n",
       "      <td>3</td>\n",
       "      <td>V</td>\n",
       "      <td>3</td>\n",
       "      <td>gianluca</td>\n",
       "      <td>...</td>\n",
       "      <td>0.0</td>\n",
       "      <td>1.0</td>\n",
       "      <td>1.0</td>\n",
       "      <td>0</td>\n",
       "      <td>0.0</td>\n",
       "      <td>0.309990</td>\n",
       "      <td>73.4</td>\n",
       "      <td>2.2</td>\n",
       "      <td>-0.635776</td>\n",
       "      <td>0.2</td>\n",
       "    </tr>\n",
       "    <tr>\n",
       "      <th>1</th>\n",
       "      <td>77.0</td>\n",
       "      <td>72.0</td>\n",
       "      <td>3</td>\n",
       "      <td>3</td>\n",
       "      <td>0</td>\n",
       "      <td>3</td>\n",
       "      <td>2</td>\n",
       "      <td>V</td>\n",
       "      <td>3</td>\n",
       "      <td>fabio</td>\n",
       "      <td>...</td>\n",
       "      <td>0.0</td>\n",
       "      <td>3.0</td>\n",
       "      <td>4.0</td>\n",
       "      <td>0</td>\n",
       "      <td>1.0</td>\n",
       "      <td>1.036316</td>\n",
       "      <td>74.4</td>\n",
       "      <td>2.4</td>\n",
       "      <td>0.317888</td>\n",
       "      <td>1.4</td>\n",
       "    </tr>\n",
       "    <tr>\n",
       "      <th>2</th>\n",
       "      <td>79.5</td>\n",
       "      <td>61.0</td>\n",
       "      <td>1</td>\n",
       "      <td>2</td>\n",
       "      <td>3</td>\n",
       "      <td>3</td>\n",
       "      <td>0</td>\n",
       "      <td>V</td>\n",
       "      <td>3</td>\n",
       "      <td>enrico</td>\n",
       "      <td>...</td>\n",
       "      <td>0.0</td>\n",
       "      <td>2.0</td>\n",
       "      <td>2.0</td>\n",
       "      <td>0</td>\n",
       "      <td>0.0</td>\n",
       "      <td>0.673153</td>\n",
       "      <td>73.9</td>\n",
       "      <td>2.4</td>\n",
       "      <td>1.907327</td>\n",
       "      <td>1.4</td>\n",
       "    </tr>\n",
       "    <tr>\n",
       "      <th>3</th>\n",
       "      <td>72.0</td>\n",
       "      <td>77.0</td>\n",
       "      <td>0</td>\n",
       "      <td>1</td>\n",
       "      <td>1</td>\n",
       "      <td>2</td>\n",
       "      <td>3</td>\n",
       "      <td>S</td>\n",
       "      <td>0</td>\n",
       "      <td>gabriele</td>\n",
       "      <td>...</td>\n",
       "      <td>0.0</td>\n",
       "      <td>5.0</td>\n",
       "      <td>5.0</td>\n",
       "      <td>3</td>\n",
       "      <td>0.0</td>\n",
       "      <td>-0.237357</td>\n",
       "      <td>75.4</td>\n",
       "      <td>2.6</td>\n",
       "      <td>-0.317888</td>\n",
       "      <td>-0.6</td>\n",
       "    </tr>\n",
       "    <tr>\n",
       "      <th>4</th>\n",
       "      <td>77.5</td>\n",
       "      <td>82.0</td>\n",
       "      <td>0</td>\n",
       "      <td>1</td>\n",
       "      <td>3</td>\n",
       "      <td>3</td>\n",
       "      <td>4</td>\n",
       "      <td>S</td>\n",
       "      <td>0</td>\n",
       "      <td>luca</td>\n",
       "      <td>...</td>\n",
       "      <td>0.0</td>\n",
       "      <td>4.0</td>\n",
       "      <td>3.0</td>\n",
       "      <td>3</td>\n",
       "      <td>-1.0</td>\n",
       "      <td>-1.036316</td>\n",
       "      <td>74.3</td>\n",
       "      <td>2.4</td>\n",
       "      <td>-1.271551</td>\n",
       "      <td>-1.7</td>\n",
       "    </tr>\n",
       "    <tr>\n",
       "      <th>5</th>\n",
       "      <td>61.0</td>\n",
       "      <td>79.5</td>\n",
       "      <td>2</td>\n",
       "      <td>1</td>\n",
       "      <td>0</td>\n",
       "      <td>0</td>\n",
       "      <td>3</td>\n",
       "      <td>S</td>\n",
       "      <td>0</td>\n",
       "      <td>ale</td>\n",
       "      <td>...</td>\n",
       "      <td>0.0</td>\n",
       "      <td>6.0</td>\n",
       "      <td>6.0</td>\n",
       "      <td>3</td>\n",
       "      <td>0.0</td>\n",
       "      <td>1.360560</td>\n",
       "      <td>77.6</td>\n",
       "      <td>3.0</td>\n",
       "      <td>-0.000000</td>\n",
       "      <td>0.0</td>\n",
       "    </tr>\n",
       "  </tbody>\n",
       "</table>\n",
       "<p>6 rows × 22 columns</p>\n",
       "</div>"
      ],
      "text/plain": [
       "   punti_fatti  punti_subiti  goal_subiti_por  cartellini  mod_difesa  GF  GS  \\\n",
       "0         82.0          77.5                1           1           1   4   3   \n",
       "1         77.0          72.0                3           3           0   3   2   \n",
       "2         79.5          61.0                1           2           3   3   0   \n",
       "3         72.0          77.0                0           1           1   2   3   \n",
       "4         77.5          82.0                0           1           3   3   4   \n",
       "5         61.0          79.5                2           1           0   0   3   \n",
       "\n",
       "  esito  pti      Team      ...        f_media_personale  pos  rank  distacco  \\\n",
       "0     V    3  gianluca      ...                      0.0  1.0   1.0         0   \n",
       "1     V    3     fabio      ...                      0.0  3.0   4.0         0   \n",
       "2     V    3    enrico      ...                      0.0  2.0   2.0         0   \n",
       "3     S    0  gabriele      ...                      0.0  5.0   5.0         3   \n",
       "4     S    0      luca      ...                      0.0  4.0   3.0         3   \n",
       "5     S    0       ale      ...                      0.0  6.0   6.0         3   \n",
       "\n",
       "   f_pos  f_distacco  x_punti_subiti  x_GS      f_GS  IndiceFortuna  \n",
       "0    0.0    0.309990            73.4   2.2 -0.635776            0.2  \n",
       "1    1.0    1.036316            74.4   2.4  0.317888            1.4  \n",
       "2    0.0    0.673153            73.9   2.4  1.907327            1.4  \n",
       "3    0.0   -0.237357            75.4   2.6 -0.317888           -0.6  \n",
       "4   -1.0   -1.036316            74.3   2.4 -1.271551           -1.7  \n",
       "5    0.0    1.360560            77.6   3.0 -0.000000            0.0  \n",
       "\n",
       "[6 rows x 22 columns]"
      ]
     },
     "execution_count": 44,
     "metadata": {},
     "output_type": "execute_result"
    }
   ],
   "source": [
    "data = Tot_per_round[0]\n",
    "xxx = pd.DataFrame()\n",
    "for key in Tot_per_round[0].keys():\n",
    "    xxx[key] = data[key]\n",
    "xxx"
   ]
  },
  {
   "cell_type": "markdown",
   "metadata": {},
   "source": [
    "## Distribuzione goal / Poisson?"
   ]
  },
  {
   "cell_type": "code",
   "execution_count": 41,
   "metadata": {},
   "outputs": [
    {
     "data": {
      "text/plain": [
       "(array([56., 72., 75., 40., 14.,  5.,  2.]),\n",
       " array([0., 1., 2., 3., 4., 5., 6., 7.]),\n",
       " <a list of 7 Patch objects>)"
      ]
     },
     "execution_count": 41,
     "metadata": {},
     "output_type": "execute_result"
    },
    {
     "data": {
      "image/png": "[encoded data removed]",
      "text/plain": [
       "<Figure size 432x288 with 1 Axes>"
      ]
     },
     "metadata": {
      "needs_background": "light"
     },
     "output_type": "display_data"
    }
   ],
   "source": [
    "goal_made=cdf[['GF']]\n",
    "#goal_made['GF'].describe()\n",
    "#plt.figure()\n",
    "plt.hist(goal_made['GF'],7)"
   ]
  },
  {
   "cell_type": "code",
   "execution_count": 42,
   "metadata": {},
   "outputs": [
    {
     "data": {
      "text/plain": [
       "(array([56., 72., 75., 40., 14.,  5.,  2.]),\n",
       " array([0., 1., 2., 3., 4., 5., 6., 7.]),\n",
       " <a list of 1 Patch objects>)"
      ]
     },
     "execution_count": 42,
     "metadata": {},
     "output_type": "execute_result"
    },
    {
     "data": {
      "image/png": "[encoded data removed]",
      "text/plain": [
       "<Figure size 432x288 with 1 Axes>"
      ]
     },
     "metadata": {
      "needs_background": "light"
     },
     "output_type": "display_data"
    }
   ],
   "source": [
    "average=goal_made['GF'].mean()\n",
    "total=giornate*n_giocatori\n",
    "import scipy.special\n",
    "x=np.arange(-1,7.01,0.01)\n",
    "plt.plot(x, total*np.exp(-average)*average**x/scipy.special.gamma(x+1))\n",
    "plt.hist(goal_made['GF'],7,align='left',rwidth=0.1,histtype='step')"
   ]
  },
  {
   "cell_type": "code",
   "execution_count": 43,
   "metadata": {},
   "outputs": [
    {
     "data": {
      "text/plain": [
       "[<matplotlib.lines.Line2D at 0x1beb1493898>]"
      ]
     },
     "execution_count": 43,
     "metadata": {},
     "output_type": "execute_result"
    },
    {
     "data": {
      "image/png": "[encoded data removed]",
      "text/plain": [
       "<Figure size 432x288 with 1 Axes>"
      ]
     },
     "metadata": {
      "needs_background": "light"
     },
     "output_type": "display_data"
    }
   ],
   "source": [
    "plt.hist(cdf['punti_fatti']-66,range=(-10,30),bins=8,rwidth=0.5,density=True)\n",
    "av=cdf['punti_fatti'].mean()-66\n",
    "x=np.arange(-10,30.01,0.01)\n",
    "plt.plot(x, np.exp(-av)*av**(x)/scipy.special.gamma((x)+1))"
   ]
  },
  {
   "cell_type": "code",
   "execution_count": 44,
   "metadata": {},
   "outputs": [
    {
     "data": {
      "text/plain": [
       "count    264.000000\n",
       "mean      71.026515\n",
       "std        7.200236\n",
       "min       44.500000\n",
       "25%       66.875000\n",
       "50%       71.000000\n",
       "75%       75.000000\n",
       "max       98.500000\n",
       "Name: punti_fatti, dtype: float64"
      ]
     },
     "execution_count": 44,
     "metadata": {},
     "output_type": "execute_result"
    }
   ],
   "source": [
    "cdf['punti_fatti'].describe()"
   ]
  },
  {
   "cell_type": "code",
   "execution_count": 45,
   "metadata": {},
   "outputs": [
    {
     "data": {
      "text/plain": [
       "63.826278993067845"
      ]
     },
     "execution_count": 45,
     "metadata": {},
     "output_type": "execute_result"
    }
   ],
   "source": [
    "cdf['punti_fatti'].mean()-cdf['punti_fatti'].std()"
   ]
  },
  {
   "cell_type": "code",
   "execution_count": 46,
   "metadata": {},
   "outputs": [
    {
     "data": {
      "text/plain": [
       "7.200236158447314"
      ]
     },
     "execution_count": 46,
     "metadata": {},
     "output_type": "execute_result"
    }
   ],
   "source": [
    "cdf['punti_fatti'].std()"
   ]
  },
  {
   "cell_type": "code",
   "execution_count": null,
   "metadata": {},
   "outputs": [],
   "source": []
  }
 ],
 "metadata": {
  "kernelspec": {
   "display_name": "Python 3",
   "language": "python",
   "name": "python3"
  },
  "language_info": {
   "codemirror_mode": {
    "name": "ipython",
    "version": 3
   },
   "file_extension": ".py",
   "mimetype": "text/x-python",
   "name": "python",
   "nbconvert_exporter": "python",
   "pygments_lexer": "ipython3",
   "version": "3.7.1"
  }
 },
 "nbformat": 4,
 "nbformat_minor": 2
}
